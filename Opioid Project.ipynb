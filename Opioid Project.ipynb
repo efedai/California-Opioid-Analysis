{
 "cells": [
  {
   "cell_type": "code",
   "execution_count": 1,
   "metadata": {},
   "outputs": [],
   "source": [
    "import pandas as pd\n",
    "import numpy as np\n",
    "import matplotlib.pyplot as plt\n",
    "import seaborn as sns"
   ]
  },
  {
   "cell_type": "code",
   "execution_count": 2,
   "metadata": {},
   "outputs": [],
   "source": [
    "opiod_df= pd.read_csv('CA opiod precribed.csv')"
   ]
  },
  {
   "cell_type": "code",
   "execution_count": 3,
   "metadata": {},
   "outputs": [
    {
     "data": {
      "text/plain": [
       "xYear               int64\n",
       "State              object\n",
       "County             object\n",
       "Age_Group          object\n",
       "rundatetime        object\n",
       "PatCount_Opioid     int64\n",
       "Population         object\n",
       "dtype: object"
      ]
     },
     "execution_count": 3,
     "metadata": {},
     "output_type": "execute_result"
    }
   ],
   "source": [
    "opiod_df.dtypes"
   ]
  },
  {
   "cell_type": "code",
   "execution_count": 4,
   "metadata": {},
   "outputs": [
    {
     "data": {
      "text/html": [
       "<div>\n",
       "<style scoped>\n",
       "    .dataframe tbody tr th:only-of-type {\n",
       "        vertical-align: middle;\n",
       "    }\n",
       "\n",
       "    .dataframe tbody tr th {\n",
       "        vertical-align: top;\n",
       "    }\n",
       "\n",
       "    .dataframe thead th {\n",
       "        text-align: right;\n",
       "    }\n",
       "</style>\n",
       "<table border=\"1\" class=\"dataframe\">\n",
       "  <thead>\n",
       "    <tr style=\"text-align: right;\">\n",
       "      <th></th>\n",
       "      <th>xYear</th>\n",
       "      <th>State</th>\n",
       "      <th>County</th>\n",
       "      <th>Age_Group</th>\n",
       "      <th>rundatetime</th>\n",
       "      <th>PatCount_Opioid</th>\n",
       "      <th>Population</th>\n",
       "    </tr>\n",
       "  </thead>\n",
       "  <tbody>\n",
       "    <tr>\n",
       "      <th>0</th>\n",
       "      <td>2015</td>\n",
       "      <td>CA</td>\n",
       "      <td>Alameda</td>\n",
       "      <td>15-24 yrs</td>\n",
       "      <td>04APR2021:08:30:51</td>\n",
       "      <td>24853</td>\n",
       "      <td>1,515,717</td>\n",
       "    </tr>\n",
       "    <tr>\n",
       "      <th>1</th>\n",
       "      <td>2015</td>\n",
       "      <td>CA</td>\n",
       "      <td>Alpine</td>\n",
       "      <td>15-24 yrs</td>\n",
       "      <td>04APR2021:08:30:51</td>\n",
       "      <td>16</td>\n",
       "      <td>1,115</td>\n",
       "    </tr>\n",
       "    <tr>\n",
       "      <th>2</th>\n",
       "      <td>2015</td>\n",
       "      <td>CA</td>\n",
       "      <td>Amador</td>\n",
       "      <td>15-24 yrs</td>\n",
       "      <td>04APR2021:08:30:51</td>\n",
       "      <td>726</td>\n",
       "      <td>38,211</td>\n",
       "    </tr>\n",
       "    <tr>\n",
       "      <th>3</th>\n",
       "      <td>2015</td>\n",
       "      <td>CA</td>\n",
       "      <td>Butte</td>\n",
       "      <td>15-24 yrs</td>\n",
       "      <td>04APR2021:08:30:51</td>\n",
       "      <td>5971</td>\n",
       "      <td>220,287</td>\n",
       "    </tr>\n",
       "    <tr>\n",
       "      <th>4</th>\n",
       "      <td>2015</td>\n",
       "      <td>CA</td>\n",
       "      <td>Calaveras</td>\n",
       "      <td>15-24 yrs</td>\n",
       "      <td>04APR2021:08:30:51</td>\n",
       "      <td>921</td>\n",
       "      <td>45,570</td>\n",
       "    </tr>\n",
       "    <tr>\n",
       "      <th>...</th>\n",
       "      <td>...</td>\n",
       "      <td>...</td>\n",
       "      <td>...</td>\n",
       "      <td>...</td>\n",
       "      <td>...</td>\n",
       "      <td>...</td>\n",
       "      <td>...</td>\n",
       "    </tr>\n",
       "    <tr>\n",
       "      <th>1735</th>\n",
       "      <td>2020</td>\n",
       "      <td>CA</td>\n",
       "      <td>Tulare</td>\n",
       "      <td>&gt;= 65 yrs</td>\n",
       "      <td>04APR2021:08:30:51</td>\n",
       "      <td>16256</td>\n",
       "      <td>438,352</td>\n",
       "    </tr>\n",
       "    <tr>\n",
       "      <th>1736</th>\n",
       "      <td>2020</td>\n",
       "      <td>CA</td>\n",
       "      <td>Tuolumne</td>\n",
       "      <td>&gt;= 65 yrs</td>\n",
       "      <td>04APR2021:08:30:51</td>\n",
       "      <td>4170</td>\n",
       "      <td>54,242</td>\n",
       "    </tr>\n",
       "    <tr>\n",
       "      <th>1737</th>\n",
       "      <td>2020</td>\n",
       "      <td>CA</td>\n",
       "      <td>Ventura</td>\n",
       "      <td>&gt;= 65 yrs</td>\n",
       "      <td>04APR2021:08:30:51</td>\n",
       "      <td>35165</td>\n",
       "      <td>827,963</td>\n",
       "    </tr>\n",
       "    <tr>\n",
       "      <th>1738</th>\n",
       "      <td>2020</td>\n",
       "      <td>CA</td>\n",
       "      <td>Yolo</td>\n",
       "      <td>&gt;= 65 yrs</td>\n",
       "      <td>04APR2021:08:30:51</td>\n",
       "      <td>7239</td>\n",
       "      <td>202,753</td>\n",
       "    </tr>\n",
       "    <tr>\n",
       "      <th>1739</th>\n",
       "      <td>2020</td>\n",
       "      <td>CA</td>\n",
       "      <td>Yuba</td>\n",
       "      <td>&gt;= 65 yrs</td>\n",
       "      <td>04APR2021:08:30:51</td>\n",
       "      <td>3517</td>\n",
       "      <td>71,319</td>\n",
       "    </tr>\n",
       "  </tbody>\n",
       "</table>\n",
       "<p>1740 rows × 7 columns</p>\n",
       "</div>"
      ],
      "text/plain": [
       "      xYear State     County  Age_Group         rundatetime  PatCount_Opioid  \\\n",
       "0      2015    CA    Alameda  15-24 yrs  04APR2021:08:30:51            24853   \n",
       "1      2015    CA     Alpine  15-24 yrs  04APR2021:08:30:51               16   \n",
       "2      2015    CA     Amador  15-24 yrs  04APR2021:08:30:51              726   \n",
       "3      2015    CA      Butte  15-24 yrs  04APR2021:08:30:51             5971   \n",
       "4      2015    CA  Calaveras  15-24 yrs  04APR2021:08:30:51              921   \n",
       "...     ...   ...        ...        ...                 ...              ...   \n",
       "1735   2020    CA     Tulare  >= 65 yrs  04APR2021:08:30:51            16256   \n",
       "1736   2020    CA   Tuolumne  >= 65 yrs  04APR2021:08:30:51             4170   \n",
       "1737   2020    CA    Ventura  >= 65 yrs  04APR2021:08:30:51            35165   \n",
       "1738   2020    CA       Yolo  >= 65 yrs  04APR2021:08:30:51             7239   \n",
       "1739   2020    CA       Yuba  >= 65 yrs  04APR2021:08:30:51             3517   \n",
       "\n",
       "     Population  \n",
       "0     1,515,717  \n",
       "1         1,115  \n",
       "2        38,211  \n",
       "3       220,287  \n",
       "4        45,570  \n",
       "...         ...  \n",
       "1735    438,352  \n",
       "1736     54,242  \n",
       "1737    827,963  \n",
       "1738    202,753  \n",
       "1739     71,319  \n",
       "\n",
       "[1740 rows x 7 columns]"
      ]
     },
     "execution_count": 4,
     "metadata": {},
     "output_type": "execute_result"
    }
   ],
   "source": [
    "# removing any missing data rows\n",
    "\n",
    "opiod_df.dropna()"
   ]
  },
  {
   "cell_type": "code",
   "execution_count": null,
   "metadata": {},
   "outputs": [],
   "source": []
  },
  {
   "cell_type": "code",
   "execution_count": 5,
   "metadata": {},
   "outputs": [
    {
     "data": {
      "text/plain": [
       "0       24853\n",
       "1          16\n",
       "2         726\n",
       "3        5971\n",
       "4         921\n",
       "        ...  \n",
       "1735    16256\n",
       "1736     4170\n",
       "1737    35165\n",
       "1738     7239\n",
       "1739     3517\n",
       "Name: PatCount_Opioid, Length: 1740, dtype: int32"
      ]
     },
     "execution_count": 5,
     "metadata": {},
     "output_type": "execute_result"
    }
   ],
   "source": [
    "# converting to integer\n",
    "\n",
    "opiod_df['PatCount_Opioid'].astype(int)\n"
   ]
  },
  {
   "cell_type": "code",
   "execution_count": 6,
   "metadata": {},
   "outputs": [],
   "source": [
    "# removing commas in population column\n",
    "\n",
    "opiod_df.Population = opiod_df.Population.apply(lambda x : x.replace(',',''))\n"
   ]
  },
  {
   "cell_type": "code",
   "execution_count": 7,
   "metadata": {},
   "outputs": [],
   "source": [
    "# changing population column to integer\n",
    "\n",
    "opiod_df['Population']=opiod_df['Population'].astype(int)"
   ]
  },
  {
   "cell_type": "code",
   "execution_count": 8,
   "metadata": {},
   "outputs": [
    {
     "data": {
      "text/plain": [
       "Text(0.5, 0, 'County')"
      ]
     },
     "execution_count": 8,
     "metadata": {},
     "output_type": "execute_result"
    },
    {
     "data": {
      "image/png": "[encoded data removed]",
      "text/plain": [
       "<Figure size 1080x504 with 1 Axes>"
      ]
     },
     "metadata": {
      "needs_background": "light"
     },
     "output_type": "display_data"
    }
   ],
   "source": [
    "#barplot of population by county\n",
    "\n",
    "plt.rcParams['figure.figsize'] = (15, 7)        \n",
    "opiod_df.groupby('County', sort=True)['Population'].mean().plot(kind='bar')\n",
    "plt.ylabel('Count(by mean)', fontsize=15)\n",
    "plt.title('Population by County', fontsize=15)\n",
    "plt.xlabel('County', fontsize=15)"
   ]
  },
  {
   "cell_type": "code",
   "execution_count": 9,
   "metadata": {},
   "outputs": [],
   "source": [
    "# creating function to group counties by region\n",
    "\n",
    "def label_county (row):\n",
    "    if row['County'] in ['Alameda', 'Alpine', 'Amador', 'Calaveras', 'Contra Costa', 'El Dorado', 'Fresno', 'Inyo','Kings', 'Medera','Marin','mariposa','Merced','Mono','Monteray','Napa','Placer','Sacramento','San Benito','San Francisco','San Joaquin','San Mateo','Santa Clara','Solano','Sonoma','Stanislaus','Tulare','Tuolumne','Yolo']:\n",
    "        return 'Central Cali'\n",
    "    if row['County'] in ['Butte', 'Del Norte','Glenn', 'Humboldt', 'Lake', 'Lassen', 'Mendocino', 'Modoc', 'Nevada', 'Plumas', 'Shasta', 'Sierra', 'Siskiyou', 'Sutter','Tehama','Trinity','Yuba']:\n",
    "        return 'Northern Cali'\n",
    "    if row['County'] in ['Imperial', 'Los Angeles', 'Kern', 'Orange', 'Riverside', 'San Bernardino', 'San Diego', 'San Luis Obispo', 'Santa Barbara', 'Ventura', 'Tennessee', 'Mississippi', 'Alabama', 'Oklahoma', 'Texas', 'Arkansas', 'Louisiana']:\n",
    "        return 'So Cal'\n",
    "    "
   ]
  },
  {
   "cell_type": "code",
   "execution_count": 10,
   "metadata": {},
   "outputs": [],
   "source": [
    "# applying function above to my data set, creating a new column called Region.\n",
    "\n",
    "opiod_df['Region'] = opiod_df.apply(lambda row: label_county(row), axis=1) "
   ]
  },
  {
   "cell_type": "code",
   "execution_count": 11,
   "metadata": {},
   "outputs": [
    {
     "data": {
      "text/plain": [
       "Text(0.5, 0, 'Region')"
      ]
     },
     "execution_count": 11,
     "metadata": {},
     "output_type": "execute_result"
    },
    {
     "data": {
      "image/png": "[encoded data removed]",
      "text/plain": [
       "<Figure size 1080x504 with 1 Axes>"
      ]
     },
     "metadata": {
      "needs_background": "light"
     },
     "output_type": "display_data"
    }
   ],
   "source": [
    "#barplot of population by county\n",
    "\n",
    "plt.rcParams['figure.figsize'] = (15, 7)        \n",
    "opiod_df.groupby('Region', sort=True)['Population'].mean().plot(kind='bar')\n",
    "plt.ylabel('Count(by mean)', fontsize=15)\n",
    "plt.title('Population by Region', fontsize=15)\n",
    "plt.xlabel('Region', fontsize=15)"
   ]
  },
  {
   "cell_type": "code",
   "execution_count": null,
   "metadata": {},
   "outputs": [],
   "source": []
  },
  {
   "cell_type": "code",
   "execution_count": null,
   "metadata": {},
   "outputs": [],
   "source": []
  },
  {
   "cell_type": "code",
   "execution_count": 12,
   "metadata": {},
   "outputs": [],
   "source": [
    "# determining % opioid distributed per population\n",
    "\n",
    "opiod_df['opiod_pct'] = opiod_df.PatCount_Opioid/ opiod_df.Population"
   ]
  },
  {
   "cell_type": "code",
   "execution_count": 13,
   "metadata": {},
   "outputs": [],
   "source": [
    "opiod_df['opiod_pct']= opiod_df['opiod_pct']*100"
   ]
  },
  {
   "cell_type": "code",
   "execution_count": 14,
   "metadata": {},
   "outputs": [],
   "source": [
    "# rounding to a single demicimal place\n",
    "\n",
    "opiod_df['opiod_pct']=opiod_df['opiod_pct'].round(1)"
   ]
  },
  {
   "cell_type": "code",
   "execution_count": 95,
   "metadata": {},
   "outputs": [
    {
     "data": {
      "text/plain": [
       "Text(0.5, 0, 'Region')"
      ]
     },
     "execution_count": 95,
     "metadata": {},
     "output_type": "execute_result"
    },
    {
     "data": {
      "image/png": "[encoded data removed]",
      "text/plain": [
       "<Figure size 792x504 with 1 Axes>"
      ]
     },
     "metadata": {},
     "output_type": "display_data"
    }
   ],
   "source": [
    "# opioid % mean by regions\n",
    "\n",
    "plt.rcParams['figure.figsize'] = (11, 7)        \n",
    "opiod_df.groupby('Region', sort=True)['opiod_pct'].mean().plot(kind='bar')\n",
    "plt.ylabel('Count(by mean)', fontsize=15)\n",
    "plt.title('opioid pct by Region', fontsize=15)\n",
    "plt.xlabel('Region', fontsize=15)"
   ]
  },
  {
   "cell_type": "code",
   "execution_count": 15,
   "metadata": {},
   "outputs": [
    {
     "data": {
      "text/html": [
       "<div>\n",
       "<style scoped>\n",
       "    .dataframe tbody tr th:only-of-type {\n",
       "        vertical-align: middle;\n",
       "    }\n",
       "\n",
       "    .dataframe tbody tr th {\n",
       "        vertical-align: top;\n",
       "    }\n",
       "\n",
       "    .dataframe thead th {\n",
       "        text-align: right;\n",
       "    }\n",
       "</style>\n",
       "<table border=\"1\" class=\"dataframe\">\n",
       "  <thead>\n",
       "    <tr style=\"text-align: right;\">\n",
       "      <th></th>\n",
       "      <th>xYear</th>\n",
       "      <th>State</th>\n",
       "      <th>County</th>\n",
       "      <th>Age_Group</th>\n",
       "      <th>rundatetime</th>\n",
       "      <th>PatCount_Opioid</th>\n",
       "      <th>Population</th>\n",
       "      <th>Region</th>\n",
       "      <th>opiod_pct</th>\n",
       "    </tr>\n",
       "  </thead>\n",
       "  <tbody>\n",
       "    <tr>\n",
       "      <th>0</th>\n",
       "      <td>2015</td>\n",
       "      <td>CA</td>\n",
       "      <td>Alameda</td>\n",
       "      <td>15-24 yrs</td>\n",
       "      <td>04APR2021:08:30:51</td>\n",
       "      <td>24853</td>\n",
       "      <td>1515717</td>\n",
       "      <td>Central Cali</td>\n",
       "      <td>1.6</td>\n",
       "    </tr>\n",
       "    <tr>\n",
       "      <th>1</th>\n",
       "      <td>2015</td>\n",
       "      <td>CA</td>\n",
       "      <td>Alpine</td>\n",
       "      <td>15-24 yrs</td>\n",
       "      <td>04APR2021:08:30:51</td>\n",
       "      <td>16</td>\n",
       "      <td>1115</td>\n",
       "      <td>Central Cali</td>\n",
       "      <td>1.4</td>\n",
       "    </tr>\n",
       "    <tr>\n",
       "      <th>2</th>\n",
       "      <td>2015</td>\n",
       "      <td>CA</td>\n",
       "      <td>Amador</td>\n",
       "      <td>15-24 yrs</td>\n",
       "      <td>04APR2021:08:30:51</td>\n",
       "      <td>726</td>\n",
       "      <td>38211</td>\n",
       "      <td>Central Cali</td>\n",
       "      <td>1.9</td>\n",
       "    </tr>\n",
       "    <tr>\n",
       "      <th>3</th>\n",
       "      <td>2015</td>\n",
       "      <td>CA</td>\n",
       "      <td>Butte</td>\n",
       "      <td>15-24 yrs</td>\n",
       "      <td>04APR2021:08:30:51</td>\n",
       "      <td>5971</td>\n",
       "      <td>220287</td>\n",
       "      <td>Northern Cali</td>\n",
       "      <td>2.7</td>\n",
       "    </tr>\n",
       "    <tr>\n",
       "      <th>4</th>\n",
       "      <td>2015</td>\n",
       "      <td>CA</td>\n",
       "      <td>Calaveras</td>\n",
       "      <td>15-24 yrs</td>\n",
       "      <td>04APR2021:08:30:51</td>\n",
       "      <td>921</td>\n",
       "      <td>45570</td>\n",
       "      <td>Central Cali</td>\n",
       "      <td>2.0</td>\n",
       "    </tr>\n",
       "    <tr>\n",
       "      <th>...</th>\n",
       "      <td>...</td>\n",
       "      <td>...</td>\n",
       "      <td>...</td>\n",
       "      <td>...</td>\n",
       "      <td>...</td>\n",
       "      <td>...</td>\n",
       "      <td>...</td>\n",
       "      <td>...</td>\n",
       "      <td>...</td>\n",
       "    </tr>\n",
       "    <tr>\n",
       "      <th>1735</th>\n",
       "      <td>2020</td>\n",
       "      <td>CA</td>\n",
       "      <td>Tulare</td>\n",
       "      <td>&gt;= 65 yrs</td>\n",
       "      <td>04APR2021:08:30:51</td>\n",
       "      <td>16256</td>\n",
       "      <td>438352</td>\n",
       "      <td>Central Cali</td>\n",
       "      <td>3.7</td>\n",
       "    </tr>\n",
       "    <tr>\n",
       "      <th>1736</th>\n",
       "      <td>2020</td>\n",
       "      <td>CA</td>\n",
       "      <td>Tuolumne</td>\n",
       "      <td>&gt;= 65 yrs</td>\n",
       "      <td>04APR2021:08:30:51</td>\n",
       "      <td>4170</td>\n",
       "      <td>54242</td>\n",
       "      <td>Central Cali</td>\n",
       "      <td>7.7</td>\n",
       "    </tr>\n",
       "    <tr>\n",
       "      <th>1737</th>\n",
       "      <td>2020</td>\n",
       "      <td>CA</td>\n",
       "      <td>Ventura</td>\n",
       "      <td>&gt;= 65 yrs</td>\n",
       "      <td>04APR2021:08:30:51</td>\n",
       "      <td>35165</td>\n",
       "      <td>827963</td>\n",
       "      <td>So Cal</td>\n",
       "      <td>4.2</td>\n",
       "    </tr>\n",
       "    <tr>\n",
       "      <th>1738</th>\n",
       "      <td>2020</td>\n",
       "      <td>CA</td>\n",
       "      <td>Yolo</td>\n",
       "      <td>&gt;= 65 yrs</td>\n",
       "      <td>04APR2021:08:30:51</td>\n",
       "      <td>7239</td>\n",
       "      <td>202753</td>\n",
       "      <td>Central Cali</td>\n",
       "      <td>3.6</td>\n",
       "    </tr>\n",
       "    <tr>\n",
       "      <th>1739</th>\n",
       "      <td>2020</td>\n",
       "      <td>CA</td>\n",
       "      <td>Yuba</td>\n",
       "      <td>&gt;= 65 yrs</td>\n",
       "      <td>04APR2021:08:30:51</td>\n",
       "      <td>3517</td>\n",
       "      <td>71319</td>\n",
       "      <td>Northern Cali</td>\n",
       "      <td>4.9</td>\n",
       "    </tr>\n",
       "  </tbody>\n",
       "</table>\n",
       "<p>1740 rows × 9 columns</p>\n",
       "</div>"
      ],
      "text/plain": [
       "      xYear State     County  Age_Group         rundatetime  PatCount_Opioid  \\\n",
       "0      2015    CA    Alameda  15-24 yrs  04APR2021:08:30:51            24853   \n",
       "1      2015    CA     Alpine  15-24 yrs  04APR2021:08:30:51               16   \n",
       "2      2015    CA     Amador  15-24 yrs  04APR2021:08:30:51              726   \n",
       "3      2015    CA      Butte  15-24 yrs  04APR2021:08:30:51             5971   \n",
       "4      2015    CA  Calaveras  15-24 yrs  04APR2021:08:30:51              921   \n",
       "...     ...   ...        ...        ...                 ...              ...   \n",
       "1735   2020    CA     Tulare  >= 65 yrs  04APR2021:08:30:51            16256   \n",
       "1736   2020    CA   Tuolumne  >= 65 yrs  04APR2021:08:30:51             4170   \n",
       "1737   2020    CA    Ventura  >= 65 yrs  04APR2021:08:30:51            35165   \n",
       "1738   2020    CA       Yolo  >= 65 yrs  04APR2021:08:30:51             7239   \n",
       "1739   2020    CA       Yuba  >= 65 yrs  04APR2021:08:30:51             3517   \n",
       "\n",
       "      Population         Region  opiod_pct  \n",
       "0        1515717   Central Cali        1.6  \n",
       "1           1115   Central Cali        1.4  \n",
       "2          38211   Central Cali        1.9  \n",
       "3         220287  Northern Cali        2.7  \n",
       "4          45570   Central Cali        2.0  \n",
       "...          ...            ...        ...  \n",
       "1735      438352   Central Cali        3.7  \n",
       "1736       54242   Central Cali        7.7  \n",
       "1737      827963         So Cal        4.2  \n",
       "1738      202753   Central Cali        3.6  \n",
       "1739       71319  Northern Cali        4.9  \n",
       "\n",
       "[1740 rows x 9 columns]"
      ]
     },
     "execution_count": 15,
     "metadata": {},
     "output_type": "execute_result"
    }
   ],
   "source": [
    "opiod_df"
   ]
  },
  {
   "cell_type": "code",
   "execution_count": null,
   "metadata": {},
   "outputs": [],
   "source": []
  },
  {
   "cell_type": "code",
   "execution_count": 16,
   "metadata": {},
   "outputs": [],
   "source": [
    "# creating new column called label that captures if precribed opiod percent exceeds 3% or not(flag, clear)\n",
    "\n",
    "opiod_df.loc[opiod_df['opiod_pct']>=5, 'label']= 'High risk'\n",
    "opiod_df.loc[opiod_df['opiod_pct'].between(3, 4.99), 'label']= 'moderate risk'\n",
    "opiod_df.loc[opiod_df['opiod_pct']<3, 'label']= 'low risk'\n"
   ]
  },
  {
   "cell_type": "code",
   "execution_count": 17,
   "metadata": {},
   "outputs": [
    {
     "data": {
      "text/plain": [
       "0            low risk\n",
       "1            low risk\n",
       "2            low risk\n",
       "3            low risk\n",
       "4            low risk\n",
       "            ...      \n",
       "1735    moderate risk\n",
       "1736        High risk\n",
       "1737    moderate risk\n",
       "1738    moderate risk\n",
       "1739    moderate risk\n",
       "Name: label, Length: 1740, dtype: object"
      ]
     },
     "execution_count": 17,
     "metadata": {},
     "output_type": "execute_result"
    }
   ],
   "source": [
    "opiod_df['label']"
   ]
  },
  {
   "cell_type": "code",
   "execution_count": 18,
   "metadata": {},
   "outputs": [
    {
     "data": {
      "image/png": "[encoded data removed]",
      "text/plain": [
       "<Figure size 360x360 with 1 Axes>"
      ]
     },
     "metadata": {
      "needs_background": "light"
     },
     "output_type": "display_data"
    }
   ],
   "source": [
    "# visual chart displaying total count by risk group\n",
    "\n",
    "fig=sns.catplot(x=\"label\", kind=\"count\", palette=\"ch:.25\", data=opiod_df)\n",
    "plt.title(\"Total count by risk group\") \n",
    "plt.show(fig)"
   ]
  },
  {
   "cell_type": "code",
   "execution_count": 19,
   "metadata": {},
   "outputs": [
    {
     "data": {
      "image/png": "[encoded data removed]",
      "text/plain": [
       "<Figure size 360x360 with 1 Axes>"
      ]
     },
     "metadata": {
      "needs_background": "light"
     },
     "output_type": "display_data"
    }
   ],
   "source": [
    "# visual display of opioid count by age group\n",
    "\n",
    "fig= sns.catplot(x=\"Age_Group\", y=\"PatCount_Opioid\", data=opiod_df)\n",
    "plt.title('Prescribed opioid count by age group')\n",
    "plt.show(fig)"
   ]
  },
  {
   "cell_type": "code",
   "execution_count": 20,
   "metadata": {},
   "outputs": [
    {
     "data": {
      "text/html": [
       "<div>\n",
       "<style scoped>\n",
       "    .dataframe tbody tr th:only-of-type {\n",
       "        vertical-align: middle;\n",
       "    }\n",
       "\n",
       "    .dataframe tbody tr th {\n",
       "        vertical-align: top;\n",
       "    }\n",
       "\n",
       "    .dataframe thead th {\n",
       "        text-align: right;\n",
       "    }\n",
       "</style>\n",
       "<table border=\"1\" class=\"dataframe\">\n",
       "  <thead>\n",
       "    <tr style=\"text-align: right;\">\n",
       "      <th></th>\n",
       "      <th>xYear</th>\n",
       "      <th>State</th>\n",
       "      <th>County</th>\n",
       "      <th>Age_Group</th>\n",
       "      <th>rundatetime</th>\n",
       "      <th>PatCount_Opioid</th>\n",
       "      <th>Population</th>\n",
       "      <th>Region</th>\n",
       "      <th>opiod_pct</th>\n",
       "      <th>label</th>\n",
       "    </tr>\n",
       "  </thead>\n",
       "  <tbody>\n",
       "    <tr>\n",
       "      <th>0</th>\n",
       "      <td>2015</td>\n",
       "      <td>CA</td>\n",
       "      <td>Alameda</td>\n",
       "      <td>15-24 yrs</td>\n",
       "      <td>04APR2021:08:30:51</td>\n",
       "      <td>24853</td>\n",
       "      <td>1515717</td>\n",
       "      <td>Central Cali</td>\n",
       "      <td>1.6</td>\n",
       "      <td>low risk</td>\n",
       "    </tr>\n",
       "    <tr>\n",
       "      <th>1</th>\n",
       "      <td>2015</td>\n",
       "      <td>CA</td>\n",
       "      <td>Alpine</td>\n",
       "      <td>15-24 yrs</td>\n",
       "      <td>04APR2021:08:30:51</td>\n",
       "      <td>16</td>\n",
       "      <td>1115</td>\n",
       "      <td>Central Cali</td>\n",
       "      <td>1.4</td>\n",
       "      <td>low risk</td>\n",
       "    </tr>\n",
       "    <tr>\n",
       "      <th>2</th>\n",
       "      <td>2015</td>\n",
       "      <td>CA</td>\n",
       "      <td>Amador</td>\n",
       "      <td>15-24 yrs</td>\n",
       "      <td>04APR2021:08:30:51</td>\n",
       "      <td>726</td>\n",
       "      <td>38211</td>\n",
       "      <td>Central Cali</td>\n",
       "      <td>1.9</td>\n",
       "      <td>low risk</td>\n",
       "    </tr>\n",
       "    <tr>\n",
       "      <th>3</th>\n",
       "      <td>2015</td>\n",
       "      <td>CA</td>\n",
       "      <td>Butte</td>\n",
       "      <td>15-24 yrs</td>\n",
       "      <td>04APR2021:08:30:51</td>\n",
       "      <td>5971</td>\n",
       "      <td>220287</td>\n",
       "      <td>Northern Cali</td>\n",
       "      <td>2.7</td>\n",
       "      <td>low risk</td>\n",
       "    </tr>\n",
       "    <tr>\n",
       "      <th>4</th>\n",
       "      <td>2015</td>\n",
       "      <td>CA</td>\n",
       "      <td>Calaveras</td>\n",
       "      <td>15-24 yrs</td>\n",
       "      <td>04APR2021:08:30:51</td>\n",
       "      <td>921</td>\n",
       "      <td>45570</td>\n",
       "      <td>Central Cali</td>\n",
       "      <td>2.0</td>\n",
       "      <td>low risk</td>\n",
       "    </tr>\n",
       "    <tr>\n",
       "      <th>...</th>\n",
       "      <td>...</td>\n",
       "      <td>...</td>\n",
       "      <td>...</td>\n",
       "      <td>...</td>\n",
       "      <td>...</td>\n",
       "      <td>...</td>\n",
       "      <td>...</td>\n",
       "      <td>...</td>\n",
       "      <td>...</td>\n",
       "      <td>...</td>\n",
       "    </tr>\n",
       "    <tr>\n",
       "      <th>1735</th>\n",
       "      <td>2020</td>\n",
       "      <td>CA</td>\n",
       "      <td>Tulare</td>\n",
       "      <td>65-100 yrs</td>\n",
       "      <td>04APR2021:08:30:51</td>\n",
       "      <td>16256</td>\n",
       "      <td>438352</td>\n",
       "      <td>Central Cali</td>\n",
       "      <td>3.7</td>\n",
       "      <td>moderate risk</td>\n",
       "    </tr>\n",
       "    <tr>\n",
       "      <th>1736</th>\n",
       "      <td>2020</td>\n",
       "      <td>CA</td>\n",
       "      <td>Tuolumne</td>\n",
       "      <td>65-100 yrs</td>\n",
       "      <td>04APR2021:08:30:51</td>\n",
       "      <td>4170</td>\n",
       "      <td>54242</td>\n",
       "      <td>Central Cali</td>\n",
       "      <td>7.7</td>\n",
       "      <td>High risk</td>\n",
       "    </tr>\n",
       "    <tr>\n",
       "      <th>1737</th>\n",
       "      <td>2020</td>\n",
       "      <td>CA</td>\n",
       "      <td>Ventura</td>\n",
       "      <td>65-100 yrs</td>\n",
       "      <td>04APR2021:08:30:51</td>\n",
       "      <td>35165</td>\n",
       "      <td>827963</td>\n",
       "      <td>So Cal</td>\n",
       "      <td>4.2</td>\n",
       "      <td>moderate risk</td>\n",
       "    </tr>\n",
       "    <tr>\n",
       "      <th>1738</th>\n",
       "      <td>2020</td>\n",
       "      <td>CA</td>\n",
       "      <td>Yolo</td>\n",
       "      <td>65-100 yrs</td>\n",
       "      <td>04APR2021:08:30:51</td>\n",
       "      <td>7239</td>\n",
       "      <td>202753</td>\n",
       "      <td>Central Cali</td>\n",
       "      <td>3.6</td>\n",
       "      <td>moderate risk</td>\n",
       "    </tr>\n",
       "    <tr>\n",
       "      <th>1739</th>\n",
       "      <td>2020</td>\n",
       "      <td>CA</td>\n",
       "      <td>Yuba</td>\n",
       "      <td>65-100 yrs</td>\n",
       "      <td>04APR2021:08:30:51</td>\n",
       "      <td>3517</td>\n",
       "      <td>71319</td>\n",
       "      <td>Northern Cali</td>\n",
       "      <td>4.9</td>\n",
       "      <td>moderate risk</td>\n",
       "    </tr>\n",
       "  </tbody>\n",
       "</table>\n",
       "<p>1740 rows × 10 columns</p>\n",
       "</div>"
      ],
      "text/plain": [
       "      xYear State     County   Age_Group         rundatetime  PatCount_Opioid  \\\n",
       "0      2015    CA    Alameda   15-24 yrs  04APR2021:08:30:51            24853   \n",
       "1      2015    CA     Alpine   15-24 yrs  04APR2021:08:30:51               16   \n",
       "2      2015    CA     Amador   15-24 yrs  04APR2021:08:30:51              726   \n",
       "3      2015    CA      Butte   15-24 yrs  04APR2021:08:30:51             5971   \n",
       "4      2015    CA  Calaveras   15-24 yrs  04APR2021:08:30:51              921   \n",
       "...     ...   ...        ...         ...                 ...              ...   \n",
       "1735   2020    CA     Tulare  65-100 yrs  04APR2021:08:30:51            16256   \n",
       "1736   2020    CA   Tuolumne  65-100 yrs  04APR2021:08:30:51             4170   \n",
       "1737   2020    CA    Ventura  65-100 yrs  04APR2021:08:30:51            35165   \n",
       "1738   2020    CA       Yolo  65-100 yrs  04APR2021:08:30:51             7239   \n",
       "1739   2020    CA       Yuba  65-100 yrs  04APR2021:08:30:51             3517   \n",
       "\n",
       "      Population         Region  opiod_pct          label  \n",
       "0        1515717   Central Cali        1.6       low risk  \n",
       "1           1115   Central Cali        1.4       low risk  \n",
       "2          38211   Central Cali        1.9       low risk  \n",
       "3         220287  Northern Cali        2.7       low risk  \n",
       "4          45570   Central Cali        2.0       low risk  \n",
       "...          ...            ...        ...            ...  \n",
       "1735      438352   Central Cali        3.7  moderate risk  \n",
       "1736       54242   Central Cali        7.7      High risk  \n",
       "1737      827963         So Cal        4.2  moderate risk  \n",
       "1738      202753   Central Cali        3.6  moderate risk  \n",
       "1739       71319  Northern Cali        4.9  moderate risk  \n",
       "\n",
       "[1740 rows x 10 columns]"
      ]
     },
     "execution_count": 20,
     "metadata": {},
     "output_type": "execute_result"
    }
   ],
   "source": [
    "#getting rid of >=< symbols from results in column\n",
    "\n",
    "opiod_df[\"Age_Group\"].replace({\"=< 14 yrs\" : \"0-14 yrs\", \">= 65 yrs\": \"65-100 yrs\"}, inplace=True)\n",
    "opiod_df"
   ]
  },
  {
   "cell_type": "code",
   "execution_count": 21,
   "metadata": {},
   "outputs": [
    {
     "data": {
      "text/html": [
       "<div>\n",
       "<style scoped>\n",
       "    .dataframe tbody tr th:only-of-type {\n",
       "        vertical-align: middle;\n",
       "    }\n",
       "\n",
       "    .dataframe tbody tr th {\n",
       "        vertical-align: top;\n",
       "    }\n",
       "\n",
       "    .dataframe thead th {\n",
       "        text-align: right;\n",
       "    }\n",
       "</style>\n",
       "<table border=\"1\" class=\"dataframe\">\n",
       "  <thead>\n",
       "    <tr style=\"text-align: right;\">\n",
       "      <th></th>\n",
       "      <th>xYear</th>\n",
       "      <th>PatCount_Opioid</th>\n",
       "    </tr>\n",
       "  </thead>\n",
       "  <tbody>\n",
       "    <tr>\n",
       "      <th>0</th>\n",
       "      <td>2015</td>\n",
       "      <td>7126766</td>\n",
       "    </tr>\n",
       "    <tr>\n",
       "      <th>1</th>\n",
       "      <td>2016</td>\n",
       "      <td>4812163</td>\n",
       "    </tr>\n",
       "    <tr>\n",
       "      <th>2</th>\n",
       "      <td>2017</td>\n",
       "      <td>6339863</td>\n",
       "    </tr>\n",
       "    <tr>\n",
       "      <th>3</th>\n",
       "      <td>2018</td>\n",
       "      <td>5654496</td>\n",
       "    </tr>\n",
       "    <tr>\n",
       "      <th>4</th>\n",
       "      <td>2019</td>\n",
       "      <td>5013324</td>\n",
       "    </tr>\n",
       "    <tr>\n",
       "      <th>5</th>\n",
       "      <td>2020</td>\n",
       "      <td>4414312</td>\n",
       "    </tr>\n",
       "  </tbody>\n",
       "</table>\n",
       "</div>"
      ],
      "text/plain": [
       "   xYear  PatCount_Opioid\n",
       "0   2015          7126766\n",
       "1   2016          4812163\n",
       "2   2017          6339863\n",
       "3   2018          5654496\n",
       "4   2019          5013324\n",
       "5   2020          4414312"
      ]
     },
     "execution_count": 21,
     "metadata": {},
     "output_type": "execute_result"
    }
   ],
   "source": [
    "#getting total precribed order by year\n",
    "\n",
    "year_df= opiod_df.groupby('xYear', as_index=False).agg({\"PatCount_Opioid\": \"sum\"})\n",
    "year_df"
   ]
  },
  {
   "cell_type": "code",
   "execution_count": 22,
   "metadata": {},
   "outputs": [
    {
     "data": {
      "text/plain": [
       "Text(0.5, 1.0, 'Precribed Opioid count by year')"
      ]
     },
     "execution_count": 22,
     "metadata": {},
     "output_type": "execute_result"
    },
    {
     "data": {
      "image/png": "[encoded data removed]",
      "text/plain": [
       "<Figure size 1080x504 with 1 Axes>"
      ]
     },
     "metadata": {
      "needs_background": "light"
     },
     "output_type": "display_data"
    }
   ],
   "source": [
    "plt.bar(year_df['xYear'], year_df['PatCount_Opioid'])\n",
    "plt.title('Precribed Opioid count by year')"
   ]
  },
  {
   "cell_type": "code",
   "execution_count": 23,
   "metadata": {},
   "outputs": [],
   "source": [
    "# subsetting data by year\n",
    "\n",
    "twenty_fifteen_df = opiod_df[opiod_df[\"xYear\"] == 2015]\n",
    "twenty_sixteen_df = opiod_df[opiod_df[\"xYear\"] == 2016]\n",
    "twenty_seventeen_df = opiod_df[opiod_df[\"xYear\"] == 2017]\n",
    "twenty_eighteen_df = opiod_df[opiod_df[\"xYear\"] == 2018]\n",
    "twenty_nineteen_df = opiod_df[opiod_df[\"xYear\"] == 2019]\n",
    "twenty_twenty_df = opiod_df[opiod_df[\"xYear\"] == 2020]"
   ]
  },
  {
   "cell_type": "code",
   "execution_count": 24,
   "metadata": {},
   "outputs": [],
   "source": [
    "# grouping total opioids count by county\n",
    "\n",
    "fifteen_County_df= twenty_fifteen_df.groupby('County', as_index=False).agg({\"PatCount_Opioid\": \"sum\"})\n",
    "sixteen_County_df= twenty_sixteen_df.groupby('County', as_index=False).agg({\"PatCount_Opioid\": \"sum\"})\n",
    "seventeen_County_df= twenty_seventeen_df.groupby('County', as_index=False).agg({\"PatCount_Opioid\": \"sum\"})\n",
    "eighteen_County_df= twenty_eighteen_df.groupby('County', as_index=False).agg({\"PatCount_Opioid\": \"sum\"})\n",
    "nineteen_County_df= twenty_nineteen_df.groupby('County', as_index=False).agg({\"PatCount_Opioid\": \"sum\"})\n",
    "twenty_County_df= twenty_twenty_df.groupby('County', as_index=False).agg({\"PatCount_Opioid\": \"sum\"})"
   ]
  },
  {
   "cell_type": "code",
   "execution_count": 25,
   "metadata": {},
   "outputs": [
    {
     "data": {
      "text/html": [
       "<div>\n",
       "<style scoped>\n",
       "    .dataframe tbody tr th:only-of-type {\n",
       "        vertical-align: middle;\n",
       "    }\n",
       "\n",
       "    .dataframe tbody tr th {\n",
       "        vertical-align: top;\n",
       "    }\n",
       "\n",
       "    .dataframe thead th {\n",
       "        text-align: right;\n",
       "    }\n",
       "</style>\n",
       "<table border=\"1\" class=\"dataframe\">\n",
       "  <thead>\n",
       "    <tr style=\"text-align: right;\">\n",
       "      <th></th>\n",
       "      <th>County</th>\n",
       "      <th>PatCount_Opioid</th>\n",
       "    </tr>\n",
       "  </thead>\n",
       "  <tbody>\n",
       "    <tr>\n",
       "      <th>18</th>\n",
       "      <td>Los Angeles</td>\n",
       "      <td>1530405</td>\n",
       "    </tr>\n",
       "    <tr>\n",
       "      <th>36</th>\n",
       "      <td>San Diego</td>\n",
       "      <td>583503</td>\n",
       "    </tr>\n",
       "    <tr>\n",
       "      <th>29</th>\n",
       "      <td>Orange</td>\n",
       "      <td>528224</td>\n",
       "    </tr>\n",
       "    <tr>\n",
       "      <th>32</th>\n",
       "      <td>Riverside</td>\n",
       "      <td>460630</td>\n",
       "    </tr>\n",
       "    <tr>\n",
       "      <th>35</th>\n",
       "      <td>San Bernardino</td>\n",
       "      <td>429124</td>\n",
       "    </tr>\n",
       "  </tbody>\n",
       "</table>\n",
       "</div>"
      ],
      "text/plain": [
       "            County  PatCount_Opioid\n",
       "18     Los Angeles          1530405\n",
       "36       San Diego           583503\n",
       "29          Orange           528224\n",
       "32       Riverside           460630\n",
       "35  San Bernardino           429124"
      ]
     },
     "execution_count": 25,
     "metadata": {},
     "output_type": "execute_result"
    }
   ],
   "source": [
    "# top five patient precribed counties for 2015\n",
    "five_top_county= fifteen_County_df.nlargest(5, ['PatCount_Opioid'])\n",
    "five_top_county"
   ]
  },
  {
   "cell_type": "code",
   "execution_count": 26,
   "metadata": {},
   "outputs": [
    {
     "data": {
      "text/html": [
       "<div>\n",
       "<style scoped>\n",
       "    .dataframe tbody tr th:only-of-type {\n",
       "        vertical-align: middle;\n",
       "    }\n",
       "\n",
       "    .dataframe tbody tr th {\n",
       "        vertical-align: top;\n",
       "    }\n",
       "\n",
       "    .dataframe thead th {\n",
       "        text-align: right;\n",
       "    }\n",
       "</style>\n",
       "<table border=\"1\" class=\"dataframe\">\n",
       "  <thead>\n",
       "    <tr style=\"text-align: right;\">\n",
       "      <th></th>\n",
       "      <th>County</th>\n",
       "      <th>PatCount_Opioid</th>\n",
       "    </tr>\n",
       "  </thead>\n",
       "  <tbody>\n",
       "    <tr>\n",
       "      <th>18</th>\n",
       "      <td>Los Angeles</td>\n",
       "      <td>1028827</td>\n",
       "    </tr>\n",
       "    <tr>\n",
       "      <th>36</th>\n",
       "      <td>San Diego</td>\n",
       "      <td>397217</td>\n",
       "    </tr>\n",
       "    <tr>\n",
       "      <th>29</th>\n",
       "      <td>Orange</td>\n",
       "      <td>359756</td>\n",
       "    </tr>\n",
       "    <tr>\n",
       "      <th>32</th>\n",
       "      <td>Riverside</td>\n",
       "      <td>319321</td>\n",
       "    </tr>\n",
       "    <tr>\n",
       "      <th>35</th>\n",
       "      <td>San Bernardino</td>\n",
       "      <td>294379</td>\n",
       "    </tr>\n",
       "  </tbody>\n",
       "</table>\n",
       "</div>"
      ],
      "text/plain": [
       "            County  PatCount_Opioid\n",
       "18     Los Angeles          1028827\n",
       "36       San Diego           397217\n",
       "29          Orange           359756\n",
       "32       Riverside           319321\n",
       "35  San Bernardino           294379"
      ]
     },
     "execution_count": 26,
     "metadata": {},
     "output_type": "execute_result"
    }
   ],
   "source": [
    "# top five patient precribed counties for 2016\n",
    "sixteen_top_county= sixteen_County_df.nlargest(5, ['PatCount_Opioid'])\n",
    "sixteen_top_county"
   ]
  },
  {
   "cell_type": "code",
   "execution_count": 27,
   "metadata": {},
   "outputs": [
    {
     "data": {
      "text/html": [
       "<div>\n",
       "<style scoped>\n",
       "    .dataframe tbody tr th:only-of-type {\n",
       "        vertical-align: middle;\n",
       "    }\n",
       "\n",
       "    .dataframe tbody tr th {\n",
       "        vertical-align: top;\n",
       "    }\n",
       "\n",
       "    .dataframe thead th {\n",
       "        text-align: right;\n",
       "    }\n",
       "</style>\n",
       "<table border=\"1\" class=\"dataframe\">\n",
       "  <thead>\n",
       "    <tr style=\"text-align: right;\">\n",
       "      <th></th>\n",
       "      <th>County</th>\n",
       "      <th>PatCount_Opioid</th>\n",
       "    </tr>\n",
       "  </thead>\n",
       "  <tbody>\n",
       "    <tr>\n",
       "      <th>18</th>\n",
       "      <td>Los Angeles</td>\n",
       "      <td>1395063</td>\n",
       "    </tr>\n",
       "    <tr>\n",
       "      <th>36</th>\n",
       "      <td>San Diego</td>\n",
       "      <td>525663</td>\n",
       "    </tr>\n",
       "    <tr>\n",
       "      <th>29</th>\n",
       "      <td>Orange</td>\n",
       "      <td>480323</td>\n",
       "    </tr>\n",
       "    <tr>\n",
       "      <th>32</th>\n",
       "      <td>Riverside</td>\n",
       "      <td>424544</td>\n",
       "    </tr>\n",
       "    <tr>\n",
       "      <th>35</th>\n",
       "      <td>San Bernardino</td>\n",
       "      <td>386207</td>\n",
       "    </tr>\n",
       "  </tbody>\n",
       "</table>\n",
       "</div>"
      ],
      "text/plain": [
       "            County  PatCount_Opioid\n",
       "18     Los Angeles          1395063\n",
       "36       San Diego           525663\n",
       "29          Orange           480323\n",
       "32       Riverside           424544\n",
       "35  San Bernardino           386207"
      ]
     },
     "execution_count": 27,
     "metadata": {},
     "output_type": "execute_result"
    }
   ],
   "source": [
    "# top five patient precribed counties for 2017\n",
    "seventeen_top_county= seventeen_County_df.nlargest(5, ['PatCount_Opioid'])\n",
    "seventeen_top_county"
   ]
  },
  {
   "cell_type": "code",
   "execution_count": 28,
   "metadata": {},
   "outputs": [
    {
     "data": {
      "text/html": [
       "<div>\n",
       "<style scoped>\n",
       "    .dataframe tbody tr th:only-of-type {\n",
       "        vertical-align: middle;\n",
       "    }\n",
       "\n",
       "    .dataframe tbody tr th {\n",
       "        vertical-align: top;\n",
       "    }\n",
       "\n",
       "    .dataframe thead th {\n",
       "        text-align: right;\n",
       "    }\n",
       "</style>\n",
       "<table border=\"1\" class=\"dataframe\">\n",
       "  <thead>\n",
       "    <tr style=\"text-align: right;\">\n",
       "      <th></th>\n",
       "      <th>County</th>\n",
       "      <th>PatCount_Opioid</th>\n",
       "    </tr>\n",
       "  </thead>\n",
       "  <tbody>\n",
       "    <tr>\n",
       "      <th>18</th>\n",
       "      <td>Los Angeles</td>\n",
       "      <td>1254354</td>\n",
       "    </tr>\n",
       "    <tr>\n",
       "      <th>36</th>\n",
       "      <td>San Diego</td>\n",
       "      <td>462016</td>\n",
       "    </tr>\n",
       "    <tr>\n",
       "      <th>29</th>\n",
       "      <td>Orange</td>\n",
       "      <td>429145</td>\n",
       "    </tr>\n",
       "    <tr>\n",
       "      <th>32</th>\n",
       "      <td>Riverside</td>\n",
       "      <td>386475</td>\n",
       "    </tr>\n",
       "    <tr>\n",
       "      <th>35</th>\n",
       "      <td>San Bernardino</td>\n",
       "      <td>341416</td>\n",
       "    </tr>\n",
       "  </tbody>\n",
       "</table>\n",
       "</div>"
      ],
      "text/plain": [
       "            County  PatCount_Opioid\n",
       "18     Los Angeles          1254354\n",
       "36       San Diego           462016\n",
       "29          Orange           429145\n",
       "32       Riverside           386475\n",
       "35  San Bernardino           341416"
      ]
     },
     "execution_count": 28,
     "metadata": {},
     "output_type": "execute_result"
    }
   ],
   "source": [
    "# top five patient precribed counties for 2018\n",
    "eighteen_top_county= eighteen_County_df.nlargest(5, ['PatCount_Opioid'])\n",
    "eighteen_top_county"
   ]
  },
  {
   "cell_type": "code",
   "execution_count": 29,
   "metadata": {},
   "outputs": [
    {
     "data": {
      "text/html": [
       "<div>\n",
       "<style scoped>\n",
       "    .dataframe tbody tr th:only-of-type {\n",
       "        vertical-align: middle;\n",
       "    }\n",
       "\n",
       "    .dataframe tbody tr th {\n",
       "        vertical-align: top;\n",
       "    }\n",
       "\n",
       "    .dataframe thead th {\n",
       "        text-align: right;\n",
       "    }\n",
       "</style>\n",
       "<table border=\"1\" class=\"dataframe\">\n",
       "  <thead>\n",
       "    <tr style=\"text-align: right;\">\n",
       "      <th></th>\n",
       "      <th>County</th>\n",
       "      <th>PatCount_Opioid</th>\n",
       "    </tr>\n",
       "  </thead>\n",
       "  <tbody>\n",
       "    <tr>\n",
       "      <th>18</th>\n",
       "      <td>Los Angeles</td>\n",
       "      <td>1109225</td>\n",
       "    </tr>\n",
       "    <tr>\n",
       "      <th>36</th>\n",
       "      <td>San Diego</td>\n",
       "      <td>410085</td>\n",
       "    </tr>\n",
       "    <tr>\n",
       "      <th>29</th>\n",
       "      <td>Orange</td>\n",
       "      <td>383440</td>\n",
       "    </tr>\n",
       "    <tr>\n",
       "      <th>32</th>\n",
       "      <td>Riverside</td>\n",
       "      <td>344333</td>\n",
       "    </tr>\n",
       "    <tr>\n",
       "      <th>35</th>\n",
       "      <td>San Bernardino</td>\n",
       "      <td>297601</td>\n",
       "    </tr>\n",
       "  </tbody>\n",
       "</table>\n",
       "</div>"
      ],
      "text/plain": [
       "            County  PatCount_Opioid\n",
       "18     Los Angeles          1109225\n",
       "36       San Diego           410085\n",
       "29          Orange           383440\n",
       "32       Riverside           344333\n",
       "35  San Bernardino           297601"
      ]
     },
     "execution_count": 29,
     "metadata": {},
     "output_type": "execute_result"
    }
   ],
   "source": [
    "# top five patient precribed counties for 2019\n",
    "nineteen_top_county= nineteen_County_df.nlargest(5, ['PatCount_Opioid'])\n",
    "nineteen_top_county"
   ]
  },
  {
   "cell_type": "code",
   "execution_count": 30,
   "metadata": {},
   "outputs": [
    {
     "data": {
      "text/html": [
       "<div>\n",
       "<style scoped>\n",
       "    .dataframe tbody tr th:only-of-type {\n",
       "        vertical-align: middle;\n",
       "    }\n",
       "\n",
       "    .dataframe tbody tr th {\n",
       "        vertical-align: top;\n",
       "    }\n",
       "\n",
       "    .dataframe thead th {\n",
       "        text-align: right;\n",
       "    }\n",
       "</style>\n",
       "<table border=\"1\" class=\"dataframe\">\n",
       "  <thead>\n",
       "    <tr style=\"text-align: right;\">\n",
       "      <th></th>\n",
       "      <th>County</th>\n",
       "      <th>PatCount_Opioid</th>\n",
       "    </tr>\n",
       "  </thead>\n",
       "  <tbody>\n",
       "    <tr>\n",
       "      <th>18</th>\n",
       "      <td>Los Angeles</td>\n",
       "      <td>967605</td>\n",
       "    </tr>\n",
       "    <tr>\n",
       "      <th>36</th>\n",
       "      <td>San Diego</td>\n",
       "      <td>363758</td>\n",
       "    </tr>\n",
       "    <tr>\n",
       "      <th>29</th>\n",
       "      <td>Orange</td>\n",
       "      <td>338985</td>\n",
       "    </tr>\n",
       "    <tr>\n",
       "      <th>32</th>\n",
       "      <td>Riverside</td>\n",
       "      <td>304252</td>\n",
       "    </tr>\n",
       "    <tr>\n",
       "      <th>35</th>\n",
       "      <td>San Bernardino</td>\n",
       "      <td>264209</td>\n",
       "    </tr>\n",
       "  </tbody>\n",
       "</table>\n",
       "</div>"
      ],
      "text/plain": [
       "            County  PatCount_Opioid\n",
       "18     Los Angeles           967605\n",
       "36       San Diego           363758\n",
       "29          Orange           338985\n",
       "32       Riverside           304252\n",
       "35  San Bernardino           264209"
      ]
     },
     "execution_count": 30,
     "metadata": {},
     "output_type": "execute_result"
    }
   ],
   "source": [
    "# top five patient precribed counties for 2020\n",
    "twenty_top_county= twenty_County_df.nlargest(5, ['PatCount_Opioid'])\n",
    "twenty_top_county"
   ]
  },
  {
   "cell_type": "code",
   "execution_count": 31,
   "metadata": {},
   "outputs": [],
   "source": [
    "# grouping top 5 counties by total precribed opioids 2015-2020"
   ]
  },
  {
   "cell_type": "code",
   "execution_count": 32,
   "metadata": {},
   "outputs": [],
   "source": [
    "county_df= opiod_df.groupby('County', as_index=False).agg({\"PatCount_Opioid\": \"sum\"})"
   ]
  },
  {
   "cell_type": "code",
   "execution_count": 33,
   "metadata": {},
   "outputs": [],
   "source": [
    "top_county= county_df.nlargest(5, ['PatCount_Opioid'])"
   ]
  },
  {
   "cell_type": "code",
   "execution_count": 34,
   "metadata": {},
   "outputs": [
    {
     "data": {
      "text/plain": [
       "Text(0.5, 1.0, 'Top 5 Counties for prescribed Opioids 2015-2020')"
      ]
     },
     "execution_count": 34,
     "metadata": {},
     "output_type": "execute_result"
    },
    {
     "data": {
      "image/png": "[encoded data removed]",
      "text/plain": [
       "<Figure size 1080x504 with 1 Axes>"
      ]
     },
     "metadata": {
      "needs_background": "light"
     },
     "output_type": "display_data"
    }
   ],
   "source": [
    "plt.bar(top_county['County'], top_county['PatCount_Opioid'])\n",
    "plt.ylabel('total precribed count')\n",
    "plt.title('Top 5 Counties for prescribed Opioids 2015-2020')"
   ]
  },
  {
   "cell_type": "code",
   "execution_count": null,
   "metadata": {},
   "outputs": [],
   "source": []
  },
  {
   "cell_type": "code",
   "execution_count": null,
   "metadata": {},
   "outputs": [],
   "source": []
  },
  {
   "cell_type": "code",
   "execution_count": 35,
   "metadata": {},
   "outputs": [],
   "source": [
    "# grouping top 5 counties by percent opioids prescribed 2015-2020\n",
    "\n",
    "opiod_pct_df= opiod_df.groupby('County', as_index=False).agg({\"opiod_pct\": \"mean\"})"
   ]
  },
  {
   "cell_type": "code",
   "execution_count": 36,
   "metadata": {},
   "outputs": [],
   "source": [
    "opiod_pct_top= opiod_pct_df.nlargest(5,['opiod_pct'])"
   ]
  },
  {
   "cell_type": "code",
   "execution_count": 37,
   "metadata": {},
   "outputs": [
    {
     "data": {
      "text/html": [
       "<div>\n",
       "<style scoped>\n",
       "    .dataframe tbody tr th:only-of-type {\n",
       "        vertical-align: middle;\n",
       "    }\n",
       "\n",
       "    .dataframe tbody tr th {\n",
       "        vertical-align: top;\n",
       "    }\n",
       "\n",
       "    .dataframe thead th {\n",
       "        text-align: right;\n",
       "    }\n",
       "</style>\n",
       "<table border=\"1\" class=\"dataframe\">\n",
       "  <thead>\n",
       "    <tr style=\"text-align: right;\">\n",
       "      <th></th>\n",
       "      <th>County</th>\n",
       "      <th>opiod_pct</th>\n",
       "    </tr>\n",
       "  </thead>\n",
       "  <tbody>\n",
       "    <tr>\n",
       "      <th>16</th>\n",
       "      <td>Lake</td>\n",
       "      <td>5.123333</td>\n",
       "    </tr>\n",
       "    <tr>\n",
       "      <th>4</th>\n",
       "      <td>Calaveras</td>\n",
       "      <td>4.543333</td>\n",
       "    </tr>\n",
       "    <tr>\n",
       "      <th>3</th>\n",
       "      <td>Butte</td>\n",
       "      <td>4.503333</td>\n",
       "    </tr>\n",
       "    <tr>\n",
       "      <th>54</th>\n",
       "      <td>Tuolumne</td>\n",
       "      <td>4.473333</td>\n",
       "    </tr>\n",
       "    <tr>\n",
       "      <th>57</th>\n",
       "      <td>Yuba</td>\n",
       "      <td>4.460000</td>\n",
       "    </tr>\n",
       "  </tbody>\n",
       "</table>\n",
       "</div>"
      ],
      "text/plain": [
       "       County  opiod_pct\n",
       "16       Lake   5.123333\n",
       "4   Calaveras   4.543333\n",
       "3       Butte   4.503333\n",
       "54   Tuolumne   4.473333\n",
       "57       Yuba   4.460000"
      ]
     },
     "execution_count": 37,
     "metadata": {},
     "output_type": "execute_result"
    }
   ],
   "source": [
    "opiod_pct_top"
   ]
  },
  {
   "cell_type": "code",
   "execution_count": 38,
   "metadata": {},
   "outputs": [
    {
     "data": {
      "text/plain": [
       "Text(0.5, 1.0, 'Top 5 Counties opioid mean percent precribed in porportion to total population 2015-2020')"
      ]
     },
     "execution_count": 38,
     "metadata": {},
     "output_type": "execute_result"
    },
    {
     "data": {
      "image/png": "[encoded data removed]",
      "text/plain": [
       "<Figure size 1080x504 with 1 Axes>"
      ]
     },
     "metadata": {
      "needs_background": "light"
     },
     "output_type": "display_data"
    }
   ],
   "source": [
    "plt.bar(opiod_pct_top['County'], opiod_pct_top['opiod_pct'])\n",
    "plt.ylabel('percent')\n",
    "plt.title('Top 5 Counties opioid mean percent precribed in porportion to total population 2015-2020')"
   ]
  },
  {
   "cell_type": "code",
   "execution_count": null,
   "metadata": {},
   "outputs": [],
   "source": []
  },
  {
   "cell_type": "code",
   "execution_count": 39,
   "metadata": {},
   "outputs": [],
   "source": [
    "# grouping total opioids count by county\n",
    "\n",
    "fifteen_County_df= twenty_fifteen_df.groupby('County', as_index=False).agg({\"opiod_pct\": \"mean\"})\n",
    "sixteen_County_df= twenty_sixteen_df.groupby('County', as_index=False).agg({\"opiod_pct\": \"mean\"})\n",
    "seventeen_County_df= twenty_seventeen_df.groupby('County', as_index=False).agg({\"opiod_pct\": \"mean\"})\n",
    "eighteen_County_df= twenty_eighteen_df.groupby('County', as_index=False).agg({\"opiod_pct\": \"mean\"})\n",
    "nineteen_County_df= twenty_nineteen_df.groupby('County', as_index=False).agg({\"opiod_pct\": \"mean\"})\n",
    "twenty_County_df= twenty_twenty_df.groupby('County', as_index=False).agg({\"opiod_pct\": \"mean\"})"
   ]
  },
  {
   "cell_type": "code",
   "execution_count": 40,
   "metadata": {},
   "outputs": [
    {
     "data": {
      "text/plain": [
       "Text(0.5, 1.0, 'Top 5 Counties opioid mean percent precribed in porportion to total population 2015')"
      ]
     },
     "execution_count": 40,
     "metadata": {},
     "output_type": "execute_result"
    },
    {
     "data": {
      "image/png": "[encoded data removed]",
      "text/plain": [
       "<Figure size 1080x504 with 1 Axes>"
      ]
     },
     "metadata": {
      "needs_background": "light"
     },
     "output_type": "display_data"
    }
   ],
   "source": [
    "# 2015 top 5 % opioids precribed in porportion to population\n",
    "\n",
    "five_top_county= fifteen_County_df.nlargest(5, ['opiod_pct'])\n",
    "\n",
    "\n",
    "plt.bar(five_top_county['County'], five_top_county['opiod_pct'])\n",
    "plt.ylabel('percent')\n",
    "plt.title('Top 5 Counties opioid mean percent precribed in porportion to total population 2015')"
   ]
  },
  {
   "cell_type": "code",
   "execution_count": 41,
   "metadata": {},
   "outputs": [
    {
     "data": {
      "text/plain": [
       "Text(0.5, 1.0, 'Top 5 Counties opioid mean percent precribed in porportion to total population 2016')"
      ]
     },
     "execution_count": 41,
     "metadata": {},
     "output_type": "execute_result"
    },
    {
     "data": {
      "image/png": "[encoded data removed]",
      "text/plain": [
       "<Figure size 1080x504 with 1 Axes>"
      ]
     },
     "metadata": {
      "needs_background": "light"
     },
     "output_type": "display_data"
    }
   ],
   "source": [
    "# 2016 top 5 % opioids precribed in porportion to population\n",
    "\n",
    "sixteen_top_county= sixteen_County_df.nlargest(5, ['opiod_pct'])\n",
    "\n",
    "\n",
    "plt.bar(sixteen_top_county['County'], sixteen_top_county['opiod_pct'])\n",
    "plt.ylabel('percent')\n",
    "plt.title('Top 5 Counties opioid mean percent precribed in porportion to total population 2016')"
   ]
  },
  {
   "cell_type": "code",
   "execution_count": 42,
   "metadata": {},
   "outputs": [
    {
     "data": {
      "text/plain": [
       "Text(0.5, 1.0, 'Top 5 Counties opioid mean percent precribed in porportion to total population 2017')"
      ]
     },
     "execution_count": 42,
     "metadata": {},
     "output_type": "execute_result"
    },
    {
     "data": {
      "image/png": "[encoded data removed]",
      "text/plain": [
       "<Figure size 1080x504 with 1 Axes>"
      ]
     },
     "metadata": {
      "needs_background": "light"
     },
     "output_type": "display_data"
    }
   ],
   "source": [
    "# 2017 top 5 % opioids precribed in porportion to population\n",
    "\n",
    "seventeen_top_county= seventeen_County_df.nlargest(5, ['opiod_pct'])\n",
    "\n",
    "\n",
    "plt.bar(seventeen_top_county['County'], seventeen_top_county['opiod_pct'])\n",
    "plt.ylabel('percent')\n",
    "plt.title('Top 5 Counties opioid mean percent precribed in porportion to total population 2017')"
   ]
  },
  {
   "cell_type": "code",
   "execution_count": 43,
   "metadata": {},
   "outputs": [
    {
     "data": {
      "text/plain": [
       "Text(0.5, 1.0, 'Top 5 Counties opioid mean percent precribed in porportion to total population 2018')"
      ]
     },
     "execution_count": 43,
     "metadata": {},
     "output_type": "execute_result"
    },
    {
     "data": {
      "image/png": "[encoded data removed]",
      "text/plain": [
       "<Figure size 1080x504 with 1 Axes>"
      ]
     },
     "metadata": {
      "needs_background": "light"
     },
     "output_type": "display_data"
    }
   ],
   "source": [
    "# 2018 top 5 % opioids precribed in porportion to population\n",
    "\n",
    "eighteen_top_county= eighteen_County_df.nlargest(5, ['opiod_pct'])\n",
    "\n",
    "\n",
    "plt.bar(eighteen_top_county['County'], eighteen_top_county['opiod_pct'])\n",
    "plt.ylabel('percent')\n",
    "plt.title('Top 5 Counties opioid mean percent precribed in porportion to total population 2018')"
   ]
  },
  {
   "cell_type": "code",
   "execution_count": 44,
   "metadata": {},
   "outputs": [
    {
     "data": {
      "text/plain": [
       "Text(0.5, 1.0, 'Top 5 Counties opioid mean percent precribed in porportion to total population 2019')"
      ]
     },
     "execution_count": 44,
     "metadata": {},
     "output_type": "execute_result"
    },
    {
     "data": {
      "image/png": "[encoded data removed]",
      "text/plain": [
       "<Figure size 1080x504 with 1 Axes>"
      ]
     },
     "metadata": {
      "needs_background": "light"
     },
     "output_type": "display_data"
    }
   ],
   "source": [
    "# 2019 top 5 % opioids precribed in porportion to population\n",
    "\n",
    "nineteen_top_county= nineteen_County_df.nlargest(5, ['opiod_pct'])\n",
    "\n",
    "\n",
    "plt.bar(nineteen_top_county['County'], nineteen_top_county['opiod_pct'])\n",
    "plt.ylabel('percent')\n",
    "plt.title('Top 5 Counties opioid mean percent precribed in porportion to total population 2019')"
   ]
  },
  {
   "cell_type": "code",
   "execution_count": 45,
   "metadata": {},
   "outputs": [
    {
     "data": {
      "text/plain": [
       "Text(0.5, 1.0, 'Top 5 Counties opioid mean percent precribed in porportion to total population 2020')"
      ]
     },
     "execution_count": 45,
     "metadata": {},
     "output_type": "execute_result"
    },
    {
     "data": {
      "image/png": "[encoded data removed]",
      "text/plain": [
       "<Figure size 1080x504 with 1 Axes>"
      ]
     },
     "metadata": {
      "needs_background": "light"
     },
     "output_type": "display_data"
    }
   ],
   "source": [
    "# 2020 top 5 % opioids precribed in porportion to population\n",
    "\n",
    "twenty_top_county= twenty_County_df.nlargest(5, ['opiod_pct'])\n",
    "\n",
    "\n",
    "plt.bar(twenty_top_county['County'], twenty_top_county['opiod_pct'])\n",
    "plt.ylabel('percent')\n",
    "plt.title('Top 5 Counties opioid mean percent precribed in porportion to total population 2020')"
   ]
  },
  {
   "cell_type": "code",
   "execution_count": null,
   "metadata": {},
   "outputs": [],
   "source": []
  },
  {
   "cell_type": "code",
   "execution_count": 46,
   "metadata": {},
   "outputs": [
    {
     "data": {
      "text/html": [
       "<div>\n",
       "<style scoped>\n",
       "    .dataframe tbody tr th:only-of-type {\n",
       "        vertical-align: middle;\n",
       "    }\n",
       "\n",
       "    .dataframe tbody tr th {\n",
       "        vertical-align: top;\n",
       "    }\n",
       "\n",
       "    .dataframe thead th {\n",
       "        text-align: right;\n",
       "    }\n",
       "</style>\n",
       "<table border=\"1\" class=\"dataframe\">\n",
       "  <thead>\n",
       "    <tr style=\"text-align: right;\">\n",
       "      <th></th>\n",
       "      <th>xYear</th>\n",
       "      <th>PatCount_Opioid</th>\n",
       "      <th>Population</th>\n",
       "      <th>opiod_pct</th>\n",
       "    </tr>\n",
       "  </thead>\n",
       "  <tbody>\n",
       "    <tr>\n",
       "      <th>xYear</th>\n",
       "      <td>1.000000e+00</td>\n",
       "      <td>-0.049967</td>\n",
       "      <td>-6.694713e-19</td>\n",
       "      <td>-0.180335</td>\n",
       "    </tr>\n",
       "    <tr>\n",
       "      <th>PatCount_Opioid</th>\n",
       "      <td>-4.996734e-02</td>\n",
       "      <td>1.000000</td>\n",
       "      <td>7.861910e-01</td>\n",
       "      <td>0.167756</td>\n",
       "    </tr>\n",
       "    <tr>\n",
       "      <th>Population</th>\n",
       "      <td>-6.694713e-19</td>\n",
       "      <td>0.786191</td>\n",
       "      <td>1.000000e+00</td>\n",
       "      <td>-0.082158</td>\n",
       "    </tr>\n",
       "    <tr>\n",
       "      <th>opiod_pct</th>\n",
       "      <td>-1.803351e-01</td>\n",
       "      <td>0.167756</td>\n",
       "      <td>-8.215800e-02</td>\n",
       "      <td>1.000000</td>\n",
       "    </tr>\n",
       "  </tbody>\n",
       "</table>\n",
       "</div>"
      ],
      "text/plain": [
       "                        xYear  PatCount_Opioid    Population  opiod_pct\n",
       "xYear            1.000000e+00        -0.049967 -6.694713e-19  -0.180335\n",
       "PatCount_Opioid -4.996734e-02         1.000000  7.861910e-01   0.167756\n",
       "Population      -6.694713e-19         0.786191  1.000000e+00  -0.082158\n",
       "opiod_pct       -1.803351e-01         0.167756 -8.215800e-02   1.000000"
      ]
     },
     "execution_count": 46,
     "metadata": {},
     "output_type": "execute_result"
    }
   ],
   "source": [
    "opiod_df.corr()"
   ]
  },
  {
   "cell_type": "code",
   "execution_count": null,
   "metadata": {},
   "outputs": [],
   "source": []
  },
  {
   "cell_type": "code",
   "execution_count": 47,
   "metadata": {},
   "outputs": [],
   "source": [
    "from sklearn.preprocessing import LabelEncoder"
   ]
  },
  {
   "cell_type": "code",
   "execution_count": 48,
   "metadata": {},
   "outputs": [],
   "source": [
    "# creating instance of labelencoder\n",
    "labelencoder = LabelEncoder()"
   ]
  },
  {
   "cell_type": "code",
   "execution_count": 49,
   "metadata": {},
   "outputs": [
    {
     "data": {
      "text/html": [
       "<div>\n",
       "<style scoped>\n",
       "    .dataframe tbody tr th:only-of-type {\n",
       "        vertical-align: middle;\n",
       "    }\n",
       "\n",
       "    .dataframe tbody tr th {\n",
       "        vertical-align: top;\n",
       "    }\n",
       "\n",
       "    .dataframe thead th {\n",
       "        text-align: right;\n",
       "    }\n",
       "</style>\n",
       "<table border=\"1\" class=\"dataframe\">\n",
       "  <thead>\n",
       "    <tr style=\"text-align: right;\">\n",
       "      <th></th>\n",
       "      <th>xYear</th>\n",
       "      <th>State</th>\n",
       "      <th>County</th>\n",
       "      <th>Age_Group</th>\n",
       "      <th>rundatetime</th>\n",
       "      <th>PatCount_Opioid</th>\n",
       "      <th>Population</th>\n",
       "      <th>Region</th>\n",
       "      <th>opiod_pct</th>\n",
       "      <th>label</th>\n",
       "      <th>num_label</th>\n",
       "    </tr>\n",
       "  </thead>\n",
       "  <tbody>\n",
       "    <tr>\n",
       "      <th>0</th>\n",
       "      <td>2015</td>\n",
       "      <td>CA</td>\n",
       "      <td>Alameda</td>\n",
       "      <td>15-24 yrs</td>\n",
       "      <td>04APR2021:08:30:51</td>\n",
       "      <td>24853</td>\n",
       "      <td>1515717</td>\n",
       "      <td>Central Cali</td>\n",
       "      <td>1.6</td>\n",
       "      <td>low risk</td>\n",
       "      <td>1</td>\n",
       "    </tr>\n",
       "    <tr>\n",
       "      <th>1</th>\n",
       "      <td>2015</td>\n",
       "      <td>CA</td>\n",
       "      <td>Alpine</td>\n",
       "      <td>15-24 yrs</td>\n",
       "      <td>04APR2021:08:30:51</td>\n",
       "      <td>16</td>\n",
       "      <td>1115</td>\n",
       "      <td>Central Cali</td>\n",
       "      <td>1.4</td>\n",
       "      <td>low risk</td>\n",
       "      <td>1</td>\n",
       "    </tr>\n",
       "    <tr>\n",
       "      <th>2</th>\n",
       "      <td>2015</td>\n",
       "      <td>CA</td>\n",
       "      <td>Amador</td>\n",
       "      <td>15-24 yrs</td>\n",
       "      <td>04APR2021:08:30:51</td>\n",
       "      <td>726</td>\n",
       "      <td>38211</td>\n",
       "      <td>Central Cali</td>\n",
       "      <td>1.9</td>\n",
       "      <td>low risk</td>\n",
       "      <td>1</td>\n",
       "    </tr>\n",
       "    <tr>\n",
       "      <th>3</th>\n",
       "      <td>2015</td>\n",
       "      <td>CA</td>\n",
       "      <td>Butte</td>\n",
       "      <td>15-24 yrs</td>\n",
       "      <td>04APR2021:08:30:51</td>\n",
       "      <td>5971</td>\n",
       "      <td>220287</td>\n",
       "      <td>Northern Cali</td>\n",
       "      <td>2.7</td>\n",
       "      <td>low risk</td>\n",
       "      <td>1</td>\n",
       "    </tr>\n",
       "    <tr>\n",
       "      <th>4</th>\n",
       "      <td>2015</td>\n",
       "      <td>CA</td>\n",
       "      <td>Calaveras</td>\n",
       "      <td>15-24 yrs</td>\n",
       "      <td>04APR2021:08:30:51</td>\n",
       "      <td>921</td>\n",
       "      <td>45570</td>\n",
       "      <td>Central Cali</td>\n",
       "      <td>2.0</td>\n",
       "      <td>low risk</td>\n",
       "      <td>1</td>\n",
       "    </tr>\n",
       "    <tr>\n",
       "      <th>...</th>\n",
       "      <td>...</td>\n",
       "      <td>...</td>\n",
       "      <td>...</td>\n",
       "      <td>...</td>\n",
       "      <td>...</td>\n",
       "      <td>...</td>\n",
       "      <td>...</td>\n",
       "      <td>...</td>\n",
       "      <td>...</td>\n",
       "      <td>...</td>\n",
       "      <td>...</td>\n",
       "    </tr>\n",
       "    <tr>\n",
       "      <th>1735</th>\n",
       "      <td>2020</td>\n",
       "      <td>CA</td>\n",
       "      <td>Tulare</td>\n",
       "      <td>65-100 yrs</td>\n",
       "      <td>04APR2021:08:30:51</td>\n",
       "      <td>16256</td>\n",
       "      <td>438352</td>\n",
       "      <td>Central Cali</td>\n",
       "      <td>3.7</td>\n",
       "      <td>moderate risk</td>\n",
       "      <td>2</td>\n",
       "    </tr>\n",
       "    <tr>\n",
       "      <th>1736</th>\n",
       "      <td>2020</td>\n",
       "      <td>CA</td>\n",
       "      <td>Tuolumne</td>\n",
       "      <td>65-100 yrs</td>\n",
       "      <td>04APR2021:08:30:51</td>\n",
       "      <td>4170</td>\n",
       "      <td>54242</td>\n",
       "      <td>Central Cali</td>\n",
       "      <td>7.7</td>\n",
       "      <td>High risk</td>\n",
       "      <td>0</td>\n",
       "    </tr>\n",
       "    <tr>\n",
       "      <th>1737</th>\n",
       "      <td>2020</td>\n",
       "      <td>CA</td>\n",
       "      <td>Ventura</td>\n",
       "      <td>65-100 yrs</td>\n",
       "      <td>04APR2021:08:30:51</td>\n",
       "      <td>35165</td>\n",
       "      <td>827963</td>\n",
       "      <td>So Cal</td>\n",
       "      <td>4.2</td>\n",
       "      <td>moderate risk</td>\n",
       "      <td>2</td>\n",
       "    </tr>\n",
       "    <tr>\n",
       "      <th>1738</th>\n",
       "      <td>2020</td>\n",
       "      <td>CA</td>\n",
       "      <td>Yolo</td>\n",
       "      <td>65-100 yrs</td>\n",
       "      <td>04APR2021:08:30:51</td>\n",
       "      <td>7239</td>\n",
       "      <td>202753</td>\n",
       "      <td>Central Cali</td>\n",
       "      <td>3.6</td>\n",
       "      <td>moderate risk</td>\n",
       "      <td>2</td>\n",
       "    </tr>\n",
       "    <tr>\n",
       "      <th>1739</th>\n",
       "      <td>2020</td>\n",
       "      <td>CA</td>\n",
       "      <td>Yuba</td>\n",
       "      <td>65-100 yrs</td>\n",
       "      <td>04APR2021:08:30:51</td>\n",
       "      <td>3517</td>\n",
       "      <td>71319</td>\n",
       "      <td>Northern Cali</td>\n",
       "      <td>4.9</td>\n",
       "      <td>moderate risk</td>\n",
       "      <td>2</td>\n",
       "    </tr>\n",
       "  </tbody>\n",
       "</table>\n",
       "<p>1740 rows × 11 columns</p>\n",
       "</div>"
      ],
      "text/plain": [
       "      xYear State     County   Age_Group         rundatetime  PatCount_Opioid  \\\n",
       "0      2015    CA    Alameda   15-24 yrs  04APR2021:08:30:51            24853   \n",
       "1      2015    CA     Alpine   15-24 yrs  04APR2021:08:30:51               16   \n",
       "2      2015    CA     Amador   15-24 yrs  04APR2021:08:30:51              726   \n",
       "3      2015    CA      Butte   15-24 yrs  04APR2021:08:30:51             5971   \n",
       "4      2015    CA  Calaveras   15-24 yrs  04APR2021:08:30:51              921   \n",
       "...     ...   ...        ...         ...                 ...              ...   \n",
       "1735   2020    CA     Tulare  65-100 yrs  04APR2021:08:30:51            16256   \n",
       "1736   2020    CA   Tuolumne  65-100 yrs  04APR2021:08:30:51             4170   \n",
       "1737   2020    CA    Ventura  65-100 yrs  04APR2021:08:30:51            35165   \n",
       "1738   2020    CA       Yolo  65-100 yrs  04APR2021:08:30:51             7239   \n",
       "1739   2020    CA       Yuba  65-100 yrs  04APR2021:08:30:51             3517   \n",
       "\n",
       "      Population         Region  opiod_pct          label  num_label  \n",
       "0        1515717   Central Cali        1.6       low risk          1  \n",
       "1           1115   Central Cali        1.4       low risk          1  \n",
       "2          38211   Central Cali        1.9       low risk          1  \n",
       "3         220287  Northern Cali        2.7       low risk          1  \n",
       "4          45570   Central Cali        2.0       low risk          1  \n",
       "...          ...            ...        ...            ...        ...  \n",
       "1735      438352   Central Cali        3.7  moderate risk          2  \n",
       "1736       54242   Central Cali        7.7      High risk          0  \n",
       "1737      827963         So Cal        4.2  moderate risk          2  \n",
       "1738      202753   Central Cali        3.6  moderate risk          2  \n",
       "1739       71319  Northern Cali        4.9  moderate risk          2  \n",
       "\n",
       "[1740 rows x 11 columns]"
      ]
     },
     "execution_count": 49,
     "metadata": {},
     "output_type": "execute_result"
    }
   ],
   "source": [
    "# Assigning numerical values and storing in another column\n",
    "\n",
    "opiod_df['num_label'] = labelencoder.fit_transform(opiod_df['label'])\n",
    "opiod_df"
   ]
  },
  {
   "cell_type": "code",
   "execution_count": 50,
   "metadata": {},
   "outputs": [
    {
     "data": {
      "text/plain": [
       "array([[<matplotlib.axes._subplots.AxesSubplot object at 0x0000026AAE7E84C8>]],\n",
       "      dtype=object)"
      ]
     },
     "execution_count": 50,
     "metadata": {},
     "output_type": "execute_result"
    },
    {
     "data": {
      "image/png": "[encoded data removed]",
      "text/plain": [
       "<Figure size 1080x504 with 1 Axes>"
      ]
     },
     "metadata": {
      "needs_background": "light"
     },
     "output_type": "display_data"
    }
   ],
   "source": [
    "opiod_df.hist(column='num_label')"
   ]
  },
  {
   "cell_type": "code",
   "execution_count": 51,
   "metadata": {},
   "outputs": [],
   "source": [
    "feature_names= ['Population', 'PatCount_Opioid']\n",
    "X= opiod_df[feature_names]\n",
    "y= opiod_df['num_label']"
   ]
  },
  {
   "cell_type": "code",
   "execution_count": null,
   "metadata": {},
   "outputs": [],
   "source": []
  },
  {
   "cell_type": "code",
   "execution_count": 52,
   "metadata": {},
   "outputs": [],
   "source": [
    "# setting up test, train set \n",
    "\n",
    "from sklearn.model_selection import train_test_split\n",
    "\n",
    "\n",
    "X_train, X_test, y_train, y_test = train_test_split(X, y, test_size=0.30, random_state=60)\n",
    "\n"
   ]
  },
  {
   "cell_type": "code",
   "execution_count": 53,
   "metadata": {},
   "outputs": [
    {
     "name": "stdout",
     "output_type": "stream",
     "text": [
      "No. of samples in training set:  1218\n",
      "No. of samples in validation set: 522\n"
     ]
    }
   ],
   "source": [
    "print(\"No. of samples in training set: \", X_train.shape[0])     # displaying total number of training set values\n",
    "print(\"No. of samples in validation set:\", X_test.shape[0])      # displaying total number of validation set values"
   ]
  },
  {
   "cell_type": "code",
   "execution_count": 55,
   "metadata": {},
   "outputs": [
    {
     "name": "stdout",
     "output_type": "stream",
     "text": [
      "Accuracy of Decision Tree classifier on training set: 1.00\n",
      "Accuracy of Decision Tree classifier on test set: 0.95\n",
      "              precision    recall  f1-score   support\n",
      "\n",
      "           0       0.93      0.97      0.95       147\n",
      "           1       0.98      0.97      0.97       237\n",
      "           2       0.91      0.88      0.90       138\n",
      "\n",
      "    accuracy                           0.95       522\n",
      "   macro avg       0.94      0.94      0.94       522\n",
      "weighted avg       0.95      0.95      0.95       522\n",
      "\n"
     ]
    }
   ],
   "source": [
    "# Decision tree\n",
    "\n",
    "from sklearn.metrics import classification_report\n",
    "from sklearn.metrics import confusion_matrix\n",
    "from sklearn.tree import DecisionTreeClassifier\n",
    "\n",
    "\n",
    "clf = DecisionTreeClassifier().fit(X_train, y_train)\n",
    "print('Accuracy of Decision Tree classifier on training set: {:.2f}'\n",
    "     .format(clf.score(X_train, y_train)))\n",
    "print('Accuracy of Decision Tree classifier on test set: {:.2f}'\n",
    "     .format(clf.score(X_test, y_test)))\n",
    "\n",
    "y_true, y_pred = y_test, clf.predict(X_test)\n",
    "print(classification_report(y_true, y_pred))"
   ]
  },
  {
   "cell_type": "code",
   "execution_count": 58,
   "metadata": {},
   "outputs": [
    {
     "name": "stdout",
     "output_type": "stream",
     "text": [
      "k-NN score for test set: 0.965517\n",
      "k-NN score for training set: 0.987685\n",
      "              precision    recall  f1-score   support\n",
      "\n",
      "           0       0.94      0.99      0.96       147\n",
      "           1       1.00      0.97      0.99       237\n",
      "           2       0.94      0.93      0.93       138\n",
      "\n",
      "    accuracy                           0.97       522\n",
      "   macro avg       0.96      0.96      0.96       522\n",
      "weighted avg       0.97      0.97      0.97       522\n",
      "\n"
     ]
    }
   ],
   "source": [
    "#K-Nearest Neighbors\n",
    "from sklearn import preprocessing\n",
    "from sklearn.preprocessing import scale\n",
    "from sklearn.neighbors import KNeighborsClassifier\n",
    "\n",
    "\n",
    "Xs = scale(X)\n",
    "\n",
    "\n",
    "Xs_train, Xs_test, y_train, y_test = train_test_split(Xs, y, test_size=0.30, random_state=60)\n",
    "knn = KNeighborsClassifier(n_neighbors=3)\n",
    "knn_model = knn.fit(Xs_train, y_train)\n",
    "print('k-NN score for test set: %f' % knn_model.score(Xs_test, y_test))\n",
    "print('k-NN score for training set: %f' % knn_model.score(Xs_train, y_train))\n",
    "y_true, y_pred = y_test, knn_model.predict(Xs_test)\n",
    "print(classification_report(y_true, y_pred))"
   ]
  },
  {
   "cell_type": "code",
   "execution_count": 71,
   "metadata": {},
   "outputs": [
    {
     "name": "stdout",
     "output_type": "stream",
     "text": [
      "Accuracy of LDA classifier on training set: 0.57\n",
      "Accuracy of LDA classifier on test set: 0.58\n",
      "              precision    recall  f1-score   support\n",
      "\n",
      "           0       0.69      0.31      0.42       147\n",
      "           1       0.55      1.00      0.71       237\n",
      "           2       0.92      0.17      0.28       138\n",
      "\n",
      "    accuracy                           0.58       522\n",
      "   macro avg       0.72      0.49      0.47       522\n",
      "weighted avg       0.69      0.58      0.51       522\n",
      "\n"
     ]
    }
   ],
   "source": [
    "#Linear Discriminant Analysis\n",
    "\n",
    "from sklearn.discriminant_analysis import LinearDiscriminantAnalysis\n",
    "\n",
    "\n",
    "lda = LinearDiscriminantAnalysis()\n",
    "lda_model= lda.fit(X_train, y_train)\n",
    "print('Accuracy of LDA classifier on training set: {:.2f}'\n",
    "     .format(lda_model.score(X_train, y_train)))\n",
    "print('Accuracy of LDA classifier on test set: {:.2f}'\n",
    "     .format(lda_model.score(X_test, y_test)))\n",
    "y_true, y_pred = y_test, lda_model.predict(X_test)\n",
    "print(classification_report(y_true, y_pred))"
   ]
  },
  {
   "cell_type": "code",
   "execution_count": 88,
   "metadata": {},
   "outputs": [
    {
     "name": "stdout",
     "output_type": "stream",
     "text": [
      "Accuracy of GNB classifier on training set: 0.50\n",
      "Accuracy of GNB classifier on test set: 0.52\n",
      "              precision    recall  f1-score   support\n",
      "\n",
      "           0       0.47      0.12      0.19       147\n",
      "           1       0.51      0.97      0.67       237\n",
      "           2       0.59      0.16      0.25       138\n",
      "\n",
      "    accuracy                           0.52       522\n",
      "   macro avg       0.53      0.42      0.37       522\n",
      "weighted avg       0.52      0.52      0.42       522\n",
      "\n"
     ]
    }
   ],
   "source": [
    "#Gaussian Naive Bayes\n",
    "\n",
    "from sklearn.naive_bayes import GaussianNB\n",
    "gnb = GaussianNB()\n",
    "gnb_model=gnb.fit(X_train, y_train)\n",
    "print('Accuracy of GNB classifier on training set: {:.2f}'\n",
    "     .format(gnb_model.score(X_train, y_train)))\n",
    "print('Accuracy of GNB classifier on test set: {:.2f}'\n",
    "     .format(gnb_model.score(X_test, y_test)))\n",
    "y_true, y_pred = y_test, gnb_model.predict(X_test)\n",
    "print(classification_report(y_true, y_pred))"
   ]
  },
  {
   "cell_type": "code",
   "execution_count": 61,
   "metadata": {},
   "outputs": [
    {
     "name": "stdout",
     "output_type": "stream",
     "text": [
      "              precision    recall  f1-score   support\n",
      "\n",
      "           0       1.00      1.00      1.00       147\n",
      "           1       1.00      1.00      1.00       237\n",
      "           2       1.00      1.00      1.00       138\n",
      "\n",
      "    accuracy                           1.00       522\n",
      "   macro avg       1.00      1.00      1.00       522\n",
      "weighted avg       1.00      1.00      1.00       522\n",
      "\n"
     ]
    }
   ],
   "source": [
    "from sklearn import svm\n",
    "\n",
    "clf = svm.SVC(kernel='linear', C = 1.0)  # SVM model, linear kernal\n",
    "\n",
    "svm_model=clf.fit(X_train,y_train)\n",
    "\n",
    "y_predict= svm_model.predict(X_test)\n",
    "y_true, y_pred = y_test, svm_model.predict(X_test)\n",
    "print(classification_report(y_true, y_pred))"
   ]
  },
  {
   "cell_type": "code",
   "execution_count": null,
   "metadata": {},
   "outputs": [],
   "source": []
  },
  {
   "cell_type": "code",
   "execution_count": 62,
   "metadata": {},
   "outputs": [],
   "source": [
    "rbf = svm.SVC(kernel='rbf', gamma=0.5, C=0.1).fit(X_train, y_train)\n",
    "poly = svm.SVC(kernel='poly', degree=3, C=1).fit(X_train, y_train)\n",
    "\n"
   ]
  },
  {
   "cell_type": "code",
   "execution_count": 63,
   "metadata": {},
   "outputs": [],
   "source": [
    "poly_pred = poly.predict(X_test)\n",
    "rbf_pred = rbf.predict(X_test)"
   ]
  },
  {
   "cell_type": "code",
   "execution_count": null,
   "metadata": {},
   "outputs": [],
   "source": []
  },
  {
   "cell_type": "code",
   "execution_count": 64,
   "metadata": {},
   "outputs": [],
   "source": [
    "from sklearn.metrics import accuracy_score\n",
    "from sklearn.metrics import f1_score"
   ]
  },
  {
   "cell_type": "code",
   "execution_count": 65,
   "metadata": {},
   "outputs": [
    {
     "name": "stdout",
     "output_type": "stream",
     "text": [
      "Accuracy (RBF Kernel):  45.40\n",
      "F1 (RBF Kernel):  28.35\n",
      "[[  0 147   0]\n",
      " [  0 237   0]\n",
      " [  0 138   0]]\n",
      "              precision    recall  f1-score   support\n",
      "\n",
      "           0       0.00      0.00      0.00       147\n",
      "           1       0.45      1.00      0.62       237\n",
      "           2       0.00      0.00      0.00       138\n",
      "\n",
      "    accuracy                           0.45       522\n",
      "   macro avg       0.15      0.33      0.21       522\n",
      "weighted avg       0.21      0.45      0.28       522\n",
      "\n"
     ]
    },
    {
     "name": "stderr",
     "output_type": "stream",
     "text": [
      "C:\\Users\\EF\\anaconda3\\lib\\site-packages\\sklearn\\metrics\\_classification.py:1221: UndefinedMetricWarning: Precision and F-score are ill-defined and being set to 0.0 in labels with no predicted samples. Use `zero_division` parameter to control this behavior.\n",
      "  _warn_prf(average, modifier, msg_start, len(result))\n"
     ]
    }
   ],
   "source": [
    "rbf_accuracy = accuracy_score(y_test, rbf_pred)\n",
    "rbf_f1 = f1_score(y_test, rbf_pred, average='weighted')\n",
    "print('Accuracy (RBF Kernel): ', \"%.2f\" % (rbf_accuracy*100))\n",
    "print('F1 (RBF Kernel): ', \"%.2f\" % (rbf_f1*100))\n",
    "print(confusion_matrix(y_test, rbf_pred))\n",
    "print(classification_report(y_test, rbf_pred))"
   ]
  },
  {
   "cell_type": "code",
   "execution_count": 66,
   "metadata": {},
   "outputs": [
    {
     "name": "stdout",
     "output_type": "stream",
     "text": [
      "Accuracy (Polynomial Kernel):  46.55\n",
      "F1 (Polynomial Kernel):  30.96\n",
      "[[  2 145   0]\n",
      " [  0 237   0]\n",
      " [  4 130   4]]\n",
      "              precision    recall  f1-score   support\n",
      "\n",
      "           0       0.33      0.01      0.03       147\n",
      "           1       0.46      1.00      0.63       237\n",
      "           2       1.00      0.03      0.06       138\n",
      "\n",
      "    accuracy                           0.47       522\n",
      "   macro avg       0.60      0.35      0.24       522\n",
      "weighted avg       0.57      0.47      0.31       522\n",
      "\n"
     ]
    }
   ],
   "source": [
    "poly_accuracy = accuracy_score(y_test, poly_pred)\n",
    "poly_f1 = f1_score(y_test, poly_pred, average='weighted')\n",
    "print('Accuracy (Polynomial Kernel): ', \"%.2f\" % (poly_accuracy*100))\n",
    "print('F1 (Polynomial Kernel): ', \"%.2f\" % (poly_f1*100))\n",
    "print(confusion_matrix(y_test, poly_pred))\n",
    "print(classification_report(y_test, poly_pred))"
   ]
  },
  {
   "cell_type": "code",
   "execution_count": null,
   "metadata": {},
   "outputs": [],
   "source": [
    "\n"
   ]
  },
  {
   "cell_type": "code",
   "execution_count": null,
   "metadata": {},
   "outputs": [],
   "source": []
  },
  {
   "cell_type": "code",
   "execution_count": null,
   "metadata": {},
   "outputs": [],
   "source": []
  },
  {
   "cell_type": "code",
   "execution_count": null,
   "metadata": {},
   "outputs": [],
   "source": []
  },
  {
   "cell_type": "code",
   "execution_count": 68,
   "metadata": {},
   "outputs": [],
   "source": [
    "from sklearn.linear_model import RidgeClassifier\n",
    "from sklearn.model_selection import train_test_split\n",
    "from sklearn.preprocessing import OrdinalEncoder, LabelEncoder\n",
    "\n",
    "from yellowbrick.classifier import ROCAUC\n",
    "from yellowbrick.datasets import load_game"
   ]
  },
  {
   "cell_type": "code",
   "execution_count": 69,
   "metadata": {},
   "outputs": [
    {
     "name": "stderr",
     "output_type": "stream",
     "text": [
      "C:\\Users\\EF\\anaconda3\\lib\\site-packages\\sklearn\\base.py:213: FutureWarning: From version 0.24, get_params will raise an AttributeError if a parameter cannot be retrieved as an instance attribute. Previously it would return None.\n",
      "  FutureWarning)\n"
     ]
    },
    {
     "data": {
      "image/png": "[encoded data removed]",
      "text/plain": [
       "<Figure size 576x396 with 1 Axes>"
      ]
     },
     "metadata": {},
     "output_type": "display_data"
    },
    {
     "data": {
      "text/plain": [
       "<matplotlib.axes._subplots.AxesSubplot at 0x26aaf935108>"
      ]
     },
     "execution_count": 69,
     "metadata": {},
     "output_type": "execute_result"
    }
   ],
   "source": [
    "# Instaniate the classification model and visualizer\n",
    "\n",
    "from sklearn.neighbors import KNeighborsClassifier\n",
    "\n",
    "\n",
    "\n",
    "\n",
    "\n",
    "# Instaniate the classification model and visualizer\n",
    "model = KNeighborsClassifier()\n",
    "visualizer = ROCAUC(model, classes=[\"low\", \"moderate\", \"High\"])\n",
    "\n",
    "visualizer.fit(Xs_train, y_train)        # Fit the training data to the visualizer\n",
    "visualizer.score(Xs_test, y_test)        # Evaluate the model on the test data\n",
    "visualizer.show()                       # Finalize and render the figure"
   ]
  },
  {
   "cell_type": "code",
   "execution_count": null,
   "metadata": {},
   "outputs": [],
   "source": []
  },
  {
   "cell_type": "code",
   "execution_count": 85,
   "metadata": {},
   "outputs": [],
   "source": [
    "\n",
    "from sklearn import svm\n",
    "from sklearn.ensemble import RandomForestClassifier\n",
    "from sklearn.neural_network import MLPClassifier"
   ]
  },
  {
   "cell_type": "code",
   "execution_count": null,
   "metadata": {},
   "outputs": [],
   "source": []
  },
  {
   "cell_type": "code",
   "execution_count": 89,
   "metadata": {},
   "outputs": [
    {
     "name": "stdout",
     "output_type": "stream",
     "text": [
      "Accuracy of MLP on training set: 0.31\n",
      "Accuracy of MLP on test set: 0.28\n",
      "              precision    recall  f1-score   support\n",
      "\n",
      "           0       0.28      1.00      0.44       147\n",
      "           1       0.00      0.00      0.00       237\n",
      "           2       0.00      0.00      0.00       138\n",
      "\n",
      "    accuracy                           0.28       522\n",
      "   macro avg       0.09      0.33      0.15       522\n",
      "weighted avg       0.08      0.28      0.12       522\n",
      "\n"
     ]
    },
    {
     "name": "stderr",
     "output_type": "stream",
     "text": [
      "C:\\Users\\EF\\anaconda3\\lib\\site-packages\\sklearn\\neural_network\\_multilayer_perceptron.py:471: ConvergenceWarning: lbfgs failed to converge (status=2):\n",
      "ABNORMAL_TERMINATION_IN_LNSRCH.\n",
      "\n",
      "Increase the number of iterations (max_iter) or scale the data as shown in:\n",
      "    https://scikit-learn.org/stable/modules/preprocessing.html\n",
      "  self.n_iter_ = _check_optimize_result(\"lbfgs\", opt_res, self.max_iter)\n",
      "C:\\Users\\EF\\anaconda3\\lib\\site-packages\\sklearn\\metrics\\_classification.py:1221: UndefinedMetricWarning: Precision and F-score are ill-defined and being set to 0.0 in labels with no predicted samples. Use `zero_division` parameter to control this behavior.\n",
      "  _warn_prf(average, modifier, msg_start, len(result))\n"
     ]
    }
   ],
   "source": [
    "#Multi-layer Perceptron classifier\n",
    "\n",
    "NN = MLPClassifier(solver='lbfgs', alpha=1e-5, hidden_layer_sizes=(150, 10), random_state=1).fit(X_train, y_train)\n",
    "y_true, y_pred = y_test, NN.predict(X_test)\n",
    "\n",
    "print('Accuracy of MLP on training set: {:.2f}'\n",
    "     .format(NN.score(X_train, y_train)))\n",
    "print('Accuracy of MLP on test set: {:.2f}'\n",
    "     .format(NN.score(X_test, y_test)))\n",
    "print(classification_report(y_true, y_pred))"
   ]
  },
  {
   "cell_type": "code",
   "execution_count": 90,
   "metadata": {},
   "outputs": [
    {
     "name": "stdout",
     "output_type": "stream",
     "text": [
      "Accuracy of Random Forest on training set: 1.00\n",
      "Accuracy of Random Forest on test set: 0.96\n",
      "              precision    recall  f1-score   support\n",
      "\n",
      "           0       0.94      0.98      0.96       147\n",
      "           1       1.00      0.97      0.99       237\n",
      "           2       0.93      0.93      0.93       138\n",
      "\n",
      "    accuracy                           0.96       522\n",
      "   macro avg       0.96      0.96      0.96       522\n",
      "weighted avg       0.96      0.96      0.96       522\n",
      "\n"
     ]
    }
   ],
   "source": [
    "# Random forest model\n",
    "\n",
    "RF = RandomForestClassifier(n_estimators=1000, max_depth=10, random_state=0).fit(X_train, y_train)\n",
    "y_true, y_pred = y_test, RF.predict(X_test)\n",
    "\n",
    "print('Accuracy of Random Forest on training set: {:.2f}'\n",
    "     .format(RF.score(X_train, y_train)))\n",
    "print('Accuracy of Random Forest on test set: {:.2f}'\n",
    "     .format(RF.score(X_test, y_test)))\n",
    "print(classification_report(y_true, y_pred))"
   ]
  },
  {
   "cell_type": "code",
   "execution_count": null,
   "metadata": {},
   "outputs": [],
   "source": []
  }
 ],
 "metadata": {
  "kernelspec": {
   "display_name": "Python 3",
   "language": "python",
   "name": "python3"
  },
  "language_info": {
   "codemirror_mode": {
    "name": "ipython",
    "version": 3
   },
   "file_extension": ".py",
   "mimetype": "text/x-python",
   "name": "python",
   "nbconvert_exporter": "python",
   "pygments_lexer": "ipython3",
   "version": "3.7.7"
  }
 },
 "nbformat": 4,
 "nbformat_minor": 5
}
